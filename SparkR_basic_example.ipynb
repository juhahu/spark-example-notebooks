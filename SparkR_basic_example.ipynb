{
 "cells": [
  {
   "cell_type": "markdown",
   "metadata": {
    "ExecuteTime": {
     "end_time": "2019-01-29T11:54:58.239844Z",
     "start_time": "2019-01-29T11:54:56.928Z"
    }
   },
   "source": [
    "# SparkR example #"
   ]
  },
  {
   "cell_type": "markdown",
   "metadata": {
    "ExecuteTime": {
     "end_time": "2019-01-29T11:57:29.190988Z",
     "start_time": "2019-01-29T11:57:14.674Z"
    }
   },
   "source": [
    "This notebook demonstrates basic use of SparkR library on Apache Spark. Documentation  about SparkR can be found from http://spark.apache.org/docs/latest/sparkr.html"
   ]
  },
  {
   "cell_type": "markdown",
   "metadata": {},
   "source": [
    "First, import needed libraries and initialize sparkR session"
   ]
  },
  {
   "cell_type": "code",
   "execution_count": 1,
   "metadata": {
    "ExecuteTime": {
     "end_time": "2019-02-05T13:43:27.890433Z",
     "start_time": "2019-02-05T13:43:10.953Z"
    }
   },
   "outputs": [
    {
     "name": "stderr",
     "output_type": "stream",
     "text": [
      "Warning message:\n",
      "“package ‘SparkR’ was built under R version 3.4.4”\n",
      "Attaching package: ‘SparkR’\n",
      "\n",
      "The following objects are masked from ‘package:stats’:\n",
      "\n",
      "    cov, filter, lag, na.omit, predict, sd, var, window\n",
      "\n",
      "The following objects are masked from ‘package:base’:\n",
      "\n",
      "    as.data.frame, colnames, colnames<-, drop, endsWith, intersect,\n",
      "    rank, rbind, sample, startsWith, subset, summary, transform, union\n",
      "\n",
      "Spark package found in SPARK_HOME: /usr/local/spark\n"
     ]
    },
    {
     "name": "stdout",
     "output_type": "stream",
     "text": [
      "Launching java with spark-submit command /usr/local/spark/bin/spark-submit   sparkr-shell /tmp/RtmpgLHy0d/backend_port12462610c1f9 \n"
     ]
    },
    {
     "data": {
      "text/plain": [
       "Java ref type org.apache.spark.sql.SparkSession id 1 "
      ]
     },
     "metadata": {},
     "output_type": "display_data"
    }
   ],
   "source": [
    "library(SparkR) # mandatory library for R\n",
    "library(ggplot2)\n",
    "\n",
    "sparkR.session()"
   ]
  },
  {
   "cell_type": "markdown",
   "metadata": {},
   "source": [
    "Read .csv files to SparkR DataFrame. SparkR dataframes are similar to R data.frame but some concepts like lazy evaluation comes from Spark world.\n",
    "Unlike PySpark and Scala, R doesn't support RDD so only higher level abstractions like DataFrame are available."
   ]
  },
  {
   "cell_type": "code",
   "execution_count": 2,
   "metadata": {
    "ExecuteTime": {
     "end_time": "2019-02-05T13:44:13.692649Z",
     "start_time": "2019-02-05T13:43:10.955Z"
    }
   },
   "outputs": [],
   "source": [
    "titanic_data_df <- read.df(\"data/Titanic_data.csv\", \n",
    "                        header='true', \n",
    "                        source = \"csv\", \n",
    "                        inferSchema='true')"
   ]
  },
  {
   "cell_type": "code",
   "execution_count": 3,
   "metadata": {
    "ExecuteTime": {
     "end_time": "2019-02-05T13:44:15.477048Z",
     "start_time": "2019-02-05T13:43:10.957Z"
    }
   },
   "outputs": [],
   "source": [
    "titanic_names_df <- read.df(\"data/Titanic_names.csv\", \n",
    "                    header='true',\n",
    "                    source = \"csv\",\n",
    "                    inferSchema='true')"
   ]
  },
  {
   "cell_type": "markdown",
   "metadata": {},
   "source": [
    "## Data Exploration"
   ]
  },
  {
   "cell_type": "markdown",
   "metadata": {},
   "source": [
    "Some data exploration to understand what kind of data we are working with"
   ]
  },
  {
   "cell_type": "code",
   "execution_count": 4,
   "metadata": {
    "ExecuteTime": {
     "end_time": "2019-02-05T13:44:15.587838Z",
     "start_time": "2019-02-05T13:43:10.959Z"
    }
   },
   "outputs": [
    {
     "name": "stdout",
     "output_type": "stream",
     "text": [
      "root\n",
      " |-- id: integer (nullable = true)\n",
      " |-- PClass: string (nullable = true)\n",
      " |-- Age: double (nullable = true)\n",
      " |-- Gender: string (nullable = true)\n",
      " |-- Survived: integer (nullable = true)\n",
      " |-- GenderCode: integer (nullable = true)\n"
     ]
    }
   ],
   "source": [
    "printSchema(titanic_data_df)"
   ]
  },
  {
   "cell_type": "code",
   "execution_count": 5,
   "metadata": {
    "ExecuteTime": {
     "end_time": "2019-02-05T13:44:18.694099Z",
     "start_time": "2019-02-05T13:43:10.962Z"
    },
    "scrolled": true
   },
   "outputs": [
    {
     "data": {
      "text/html": [
       "<table>\n",
       "<thead><tr><th scope=col>id</th><th scope=col>PClass</th><th scope=col>Age</th><th scope=col>Gender</th><th scope=col>Survived</th><th scope=col>GenderCode</th></tr></thead>\n",
       "<tbody>\n",
       "\t<tr><td>1     </td><td>1st   </td><td>29.00 </td><td>female</td><td>1     </td><td>1     </td></tr>\n",
       "\t<tr><td>2     </td><td>1st   </td><td> 2.00 </td><td>female</td><td>0     </td><td>1     </td></tr>\n",
       "\t<tr><td>3     </td><td>1st   </td><td>30.00 </td><td>male  </td><td>0     </td><td>0     </td></tr>\n",
       "\t<tr><td>4     </td><td>1st   </td><td>25.00 </td><td>female</td><td>0     </td><td>1     </td></tr>\n",
       "\t<tr><td>5     </td><td>1st   </td><td> 0.92 </td><td>male  </td><td>1     </td><td>0     </td></tr>\n",
       "\t<tr><td>6     </td><td>1st   </td><td>47.00 </td><td>male  </td><td>1     </td><td>0     </td></tr>\n",
       "</tbody>\n",
       "</table>\n"
      ],
      "text/latex": [
       "\\begin{tabular}{r|llllll}\n",
       " id & PClass & Age & Gender & Survived & GenderCode\\\\\n",
       "\\hline\n",
       "\t 1      & 1st    & 29.00  & female & 1      & 1     \\\\\n",
       "\t 2      & 1st    &  2.00  & female & 0      & 1     \\\\\n",
       "\t 3      & 1st    & 30.00  & male   & 0      & 0     \\\\\n",
       "\t 4      & 1st    & 25.00  & female & 0      & 1     \\\\\n",
       "\t 5      & 1st    &  0.92  & male   & 1      & 0     \\\\\n",
       "\t 6      & 1st    & 47.00  & male   & 1      & 0     \\\\\n",
       "\\end{tabular}\n"
      ],
      "text/markdown": [
       "\n",
       "id | PClass | Age | Gender | Survived | GenderCode | \n",
       "|---|---|---|---|---|---|\n",
       "| 1      | 1st    | 29.00  | female | 1      | 1      | \n",
       "| 2      | 1st    |  2.00  | female | 0      | 1      | \n",
       "| 3      | 1st    | 30.00  | male   | 0      | 0      | \n",
       "| 4      | 1st    | 25.00  | female | 0      | 1      | \n",
       "| 5      | 1st    |  0.92  | male   | 1      | 0      | \n",
       "| 6      | 1st    | 47.00  | male   | 1      | 0      | \n",
       "\n",
       "\n"
      ],
      "text/plain": [
       "  id PClass Age   Gender Survived GenderCode\n",
       "1 1  1st    29.00 female 1        1         \n",
       "2 2  1st     2.00 female 0        1         \n",
       "3 3  1st    30.00 male   0        0         \n",
       "4 4  1st    25.00 female 0        1         \n",
       "5 5  1st     0.92 male   1        0         \n",
       "6 6  1st    47.00 male   1        0         "
      ]
     },
     "metadata": {},
     "output_type": "display_data"
    },
    {
     "data": {
      "text/html": [
       "<table>\n",
       "<thead><tr><th scope=col>id</th><th scope=col>Name</th></tr></thead>\n",
       "<tbody>\n",
       "\t<tr><td>1                                            </td><td>Allen, Miss Elisabeth Walton                 </td></tr>\n",
       "\t<tr><td>2                                            </td><td>Allison, Miss Helen Loraine                  </td></tr>\n",
       "\t<tr><td>3                                            </td><td>Allison, Mr Hudson Joshua Creighton          </td></tr>\n",
       "\t<tr><td>4                                            </td><td>Allison, Mrs Hudson JC (Bessie Waldo Daniels)</td></tr>\n",
       "\t<tr><td>5                                            </td><td>Allison, Master Hudson Trevor                </td></tr>\n",
       "\t<tr><td>6                                            </td><td>Anderson, Mr Harry                           </td></tr>\n",
       "</tbody>\n",
       "</table>\n"
      ],
      "text/latex": [
       "\\begin{tabular}{r|ll}\n",
       " id & Name\\\\\n",
       "\\hline\n",
       "\t 1                                             & Allen, Miss Elisabeth Walton                 \\\\\n",
       "\t 2                                             & Allison, Miss Helen Loraine                  \\\\\n",
       "\t 3                                             & Allison, Mr Hudson Joshua Creighton          \\\\\n",
       "\t 4                                             & Allison, Mrs Hudson JC (Bessie Waldo Daniels)\\\\\n",
       "\t 5                                             & Allison, Master Hudson Trevor                \\\\\n",
       "\t 6                                             & Anderson, Mr Harry                           \\\\\n",
       "\\end{tabular}\n"
      ],
      "text/markdown": [
       "\n",
       "id | Name | \n",
       "|---|---|---|---|---|---|\n",
       "| 1                                             | Allen, Miss Elisabeth Walton                  | \n",
       "| 2                                             | Allison, Miss Helen Loraine                   | \n",
       "| 3                                             | Allison, Mr Hudson Joshua Creighton           | \n",
       "| 4                                             | Allison, Mrs Hudson JC (Bessie Waldo Daniels) | \n",
       "| 5                                             | Allison, Master Hudson Trevor                 | \n",
       "| 6                                             | Anderson, Mr Harry                            | \n",
       "\n",
       "\n"
      ],
      "text/plain": [
       "  id Name                                         \n",
       "1 1  Allen, Miss Elisabeth Walton                 \n",
       "2 2  Allison, Miss Helen Loraine                  \n",
       "3 3  Allison, Mr Hudson Joshua Creighton          \n",
       "4 4  Allison, Mrs Hudson JC (Bessie Waldo Daniels)\n",
       "5 5  Allison, Master Hudson Trevor                \n",
       "6 6  Anderson, Mr Harry                           "
      ]
     },
     "metadata": {},
     "output_type": "display_data"
    }
   ],
   "source": [
    "head(titanic_data_df)\n",
    "head(titanic_names_df)"
   ]
  },
  {
   "cell_type": "markdown",
   "metadata": {},
   "source": [
    "You can count the rows using either nrow() or count() functions. To read more about those functions, use ?nrow or ?count commands in cell below."
   ]
  },
  {
   "cell_type": "code",
   "execution_count": 6,
   "metadata": {
    "ExecuteTime": {
     "end_time": "2019-02-05T13:44:19.371640Z",
     "start_time": "2019-02-05T13:43:10.963Z"
    }
   },
   "outputs": [],
   "source": [
    "?nrow"
   ]
  },
  {
   "cell_type": "code",
   "execution_count": 7,
   "metadata": {
    "ExecuteTime": {
     "end_time": "2019-02-05T13:44:21.172992Z",
     "start_time": "2019-02-05T13:43:10.966Z"
    },
    "scrolled": true
   },
   "outputs": [
    {
     "data": {
      "text/html": [
       "1313"
      ],
      "text/latex": [
       "1313"
      ],
      "text/markdown": [
       "1313"
      ],
      "text/plain": [
       "[1] 1313"
      ]
     },
     "metadata": {},
     "output_type": "display_data"
    },
    {
     "data": {
      "text/html": [
       "1313"
      ],
      "text/latex": [
       "1313"
      ],
      "text/markdown": [
       "1313"
      ],
      "text/plain": [
       "[1] 1313"
      ]
     },
     "metadata": {},
     "output_type": "display_data"
    }
   ],
   "source": [
    "nrow(titanic_data_df)\n",
    "count(titanic_names_df)"
   ]
  },
  {
   "cell_type": "code",
   "execution_count": 8,
   "metadata": {
    "ExecuteTime": {
     "end_time": "2019-02-05T13:44:21.561963Z",
     "start_time": "2019-02-05T13:43:10.968Z"
    }
   },
   "outputs": [
    {
     "name": "stdout",
     "output_type": "stream",
     "text": [
      "[1] 1313\n"
     ]
    }
   ],
   "source": [
    "# To transform Spark DataFrame to R data.frame use R \"<-\" syntax\n",
    "titanic_rows <- nrow(titanic_data_df)\n",
    "print(titanic_rows)"
   ]
  },
  {
   "cell_type": "code",
   "execution_count": 9,
   "metadata": {
    "ExecuteTime": {
     "end_time": "2019-02-05T13:44:26.169446Z",
     "start_time": "2019-02-05T13:43:10.970Z"
    }
   },
   "outputs": [],
   "source": [
    "titanic_data_summary <- describe(titanic_data_df)"
   ]
  },
  {
   "cell_type": "code",
   "execution_count": 10,
   "metadata": {
    "ExecuteTime": {
     "end_time": "2019-02-05T13:44:28.386437Z",
     "start_time": "2019-02-05T13:43:10.973Z"
    }
   },
   "outputs": [
    {
     "data": {
      "text/html": [
       "<table>\n",
       "<thead><tr><th scope=col>summary</th><th scope=col>id</th><th scope=col>PClass</th><th scope=col>Age</th><th scope=col>Gender</th><th scope=col>Survived</th><th scope=col>GenderCode</th></tr></thead>\n",
       "<tbody>\n",
       "\t<tr><td>count              </td><td>1313               </td><td>1313               </td><td>1313               </td><td>1313               </td><td>1313               </td><td>1313               </td></tr>\n",
       "\t<tr><td>mean               </td><td>657.0              </td><td>NA                 </td><td>17.502574257425742 </td><td>NA                 </td><td>0.3427265803503427 </td><td>0.3518659558263519 </td></tr>\n",
       "\t<tr><td>stddev             </td><td>379.1747618183468  </td><td>NA                 </td><td>18.51694476332819  </td><td>NA                 </td><td>0.47480181908910607</td><td>0.47773437008438874</td></tr>\n",
       "\t<tr><td>min                </td><td>1                  </td><td>*                  </td><td>0.0                </td><td>female             </td><td>0                  </td><td>0                  </td></tr>\n",
       "\t<tr><td>max                </td><td>1313               </td><td>3rd                </td><td>71.0               </td><td>male               </td><td>1                  </td><td>1                  </td></tr>\n",
       "</tbody>\n",
       "</table>\n"
      ],
      "text/latex": [
       "\\begin{tabular}{r|lllllll}\n",
       " summary & id & PClass & Age & Gender & Survived & GenderCode\\\\\n",
       "\\hline\n",
       "\t count               & 1313                & 1313                & 1313                & 1313                & 1313                & 1313               \\\\\n",
       "\t mean                & 657.0               & NA                  & 17.502574257425742  & NA                  & 0.3427265803503427  & 0.3518659558263519 \\\\\n",
       "\t stddev              & 379.1747618183468   & NA                  & 18.51694476332819   & NA                  & 0.47480181908910607 & 0.47773437008438874\\\\\n",
       "\t min                 & 1                   & *                   & 0.0                 & female              & 0                   & 0                  \\\\\n",
       "\t max                 & 1313                & 3rd                 & 71.0                & male                & 1                   & 1                  \\\\\n",
       "\\end{tabular}\n"
      ],
      "text/markdown": [
       "\n",
       "summary | id | PClass | Age | Gender | Survived | GenderCode | \n",
       "|---|---|---|---|---|\n",
       "| count               | 1313                | 1313                | 1313                | 1313                | 1313                | 1313                | \n",
       "| mean                | 657.0               | NA                  | 17.502574257425742  | NA                  | 0.3427265803503427  | 0.3518659558263519  | \n",
       "| stddev              | 379.1747618183468   | NA                  | 18.51694476332819   | NA                  | 0.47480181908910607 | 0.47773437008438874 | \n",
       "| min                 | 1                   | *                   | 0.0                 | female              | 0                   | 0                   | \n",
       "| max                 | 1313                | 3rd                 | 71.0                | male                | 1                   | 1                   | \n",
       "\n",
       "\n"
      ],
      "text/plain": [
       "  summary id                PClass Age                Gender\n",
       "1 count   1313              1313   1313               1313  \n",
       "2 mean    657.0             NA     17.502574257425742 NA    \n",
       "3 stddev  379.1747618183468 NA     18.51694476332819  NA    \n",
       "4 min     1                 *      0.0                female\n",
       "5 max     1313              3rd    71.0               male  \n",
       "  Survived            GenderCode         \n",
       "1 1313                1313               \n",
       "2 0.3427265803503427  0.3518659558263519 \n",
       "3 0.47480181908910607 0.47773437008438874\n",
       "4 0                   0                  \n",
       "5 1                   1                  "
      ]
     },
     "metadata": {},
     "output_type": "display_data"
    }
   ],
   "source": [
    "collect(titanic_data_summary)"
   ]
  },
  {
   "cell_type": "markdown",
   "metadata": {},
   "source": [
    "Age 0.0 seems weird. Are there many of those?\n"
   ]
  },
  {
   "cell_type": "code",
   "execution_count": 11,
   "metadata": {
    "ExecuteTime": {
     "end_time": "2019-02-05T13:44:30.277320Z",
     "start_time": "2019-02-05T13:43:10.974Z"
    }
   },
   "outputs": [
    {
     "data": {
      "text/html": [
       "557"
      ],
      "text/latex": [
       "557"
      ],
      "text/markdown": [
       "557"
      ],
      "text/plain": [
       "[1] 557"
      ]
     },
     "metadata": {},
     "output_type": "display_data"
    }
   ],
   "source": [
    "nrow(filter(select(titanic_data_df,\"*\"), \"Age == 0.0\"))"
   ]
  },
  {
   "cell_type": "markdown",
   "metadata": {},
   "source": [
    "Quite many, let's remove those lines"
   ]
  },
  {
   "cell_type": "code",
   "execution_count": 12,
   "metadata": {
    "ExecuteTime": {
     "end_time": "2019-02-05T13:44:30.390174Z",
     "start_time": "2019-02-05T13:43:10.976Z"
    }
   },
   "outputs": [],
   "source": [
    "# Filter Ages over 0.0 only to new dataframe (with same name)\n",
    "titanic_data_df <- filter(select(titanic_data_df,\"*\"), \"Age > 0.0\")"
   ]
  },
  {
   "cell_type": "code",
   "execution_count": 13,
   "metadata": {
    "ExecuteTime": {
     "end_time": "2019-02-05T13:44:30.957388Z",
     "start_time": "2019-02-05T13:43:10.978Z"
    }
   },
   "outputs": [
    {
     "data": {
      "text/html": [
       "756"
      ],
      "text/latex": [
       "756"
      ],
      "text/markdown": [
       "756"
      ],
      "text/plain": [
       "[1] 756"
      ]
     },
     "metadata": {},
     "output_type": "display_data"
    }
   ],
   "source": [
    "# Check out how many rows we have left after removing Age 0.0 lines. Should be 1313-557=756\n",
    "nrow(titanic_data_df)"
   ]
  },
  {
   "cell_type": "markdown",
   "metadata": {},
   "source": [
    "## Plotting"
   ]
  },
  {
   "cell_type": "markdown",
   "metadata": {},
   "source": [
    "To plot data you have to collect data from Spark DataFrame to R data.frame.\n",
    "Let's demonstrate plotting with ggplot using Survived -column data."
   ]
  },
  {
   "cell_type": "code",
   "execution_count": 14,
   "metadata": {
    "ExecuteTime": {
     "end_time": "2019-02-05T13:44:31.428706Z",
     "start_time": "2019-02-05T13:43:10.980Z"
    }
   },
   "outputs": [],
   "source": [
    "titanic_data_survival <- collect(select(titanic_data_df,\"Survived\"))"
   ]
  },
  {
   "cell_type": "code",
   "execution_count": 15,
   "metadata": {
    "ExecuteTime": {
     "end_time": "2019-02-05T13:44:31.482080Z",
     "start_time": "2019-02-05T13:43:10.983Z"
    }
   },
   "outputs": [
    {
     "name": "stdout",
     "output_type": "stream",
     "text": [
      "'data.frame':\t756 obs. of  1 variable:\n",
      " $ Survived: int  1 0 0 0 1 1 1 0 1 0 ...\n"
     ]
    }
   ],
   "source": [
    "# Check the structure of titanic_data_survival to see data type, amount and small sample of rows\n",
    "str(titanic_data_survival)"
   ]
  },
  {
   "cell_type": "code",
   "execution_count": 16,
   "metadata": {
    "ExecuteTime": {
     "end_time": "2019-02-05T13:44:31.506263Z",
     "start_time": "2019-02-05T13:43:10.985Z"
    }
   },
   "outputs": [],
   "source": [
    "titanic_data_survival$Survived <- factor(\n",
    "    x=titanic_data_survival$Survived, \n",
    "    levels=c(0,1),\n",
    "    labels=c('Not survived', 'Survived')\n",
    ")"
   ]
  },
  {
   "cell_type": "code",
   "execution_count": 17,
   "metadata": {
    "ExecuteTime": {
     "end_time": "2019-02-05T13:44:33.053823Z",
     "start_time": "2019-02-05T13:43:10.988Z"
    }
   },
   "outputs": [
    {
     "data": {},
     "metadata": {},
     "output_type": "display_data"
    },
    {
     "data": {
      "image/png": "[encoded data removed]",
      "text/plain": [
       "plot without title"
      ]
     },
     "metadata": {},
     "output_type": "display_data"
    }
   ],
   "source": [
    "c <- ggplot(data=titanic_data_survival, aes(x=factor(Survived)))\n",
    "c + geom_bar() + xlab(\"Survived?\")"
   ]
  },
  {
   "cell_type": "markdown",
   "metadata": {},
   "source": [
    "Data can be selected using R-syntax dataframe_name$column, but for more complex operations the SQL-syntax from SparkSQL library can be used with selectExpr() function. "
   ]
  },
  {
   "cell_type": "code",
   "execution_count": 18,
   "metadata": {
    "ExecuteTime": {
     "end_time": "2019-02-05T13:44:33.560201Z",
     "start_time": "2019-02-05T13:43:10.992Z"
    }
   },
   "outputs": [
    {
     "data": {
      "text/html": [
       "<table>\n",
       "<thead><tr><th scope=col>Age</th></tr></thead>\n",
       "<tbody>\n",
       "\t<tr><td>29.00</td></tr>\n",
       "\t<tr><td> 2.00</td></tr>\n",
       "\t<tr><td>30.00</td></tr>\n",
       "\t<tr><td>25.00</td></tr>\n",
       "\t<tr><td> 0.92</td></tr>\n",
       "\t<tr><td>47.00</td></tr>\n",
       "</tbody>\n",
       "</table>\n"
      ],
      "text/latex": [
       "\\begin{tabular}{r|l}\n",
       " Age\\\\\n",
       "\\hline\n",
       "\t 29.00\\\\\n",
       "\t  2.00\\\\\n",
       "\t 30.00\\\\\n",
       "\t 25.00\\\\\n",
       "\t  0.92\\\\\n",
       "\t 47.00\\\\\n",
       "\\end{tabular}\n"
      ],
      "text/markdown": [
       "\n",
       "Age | \n",
       "|---|---|---|---|---|---|\n",
       "| 29.00 | \n",
       "|  2.00 | \n",
       "| 30.00 | \n",
       "| 25.00 | \n",
       "|  0.92 | \n",
       "| 47.00 | \n",
       "\n",
       "\n"
      ],
      "text/plain": [
       "  Age  \n",
       "1 29.00\n",
       "2  2.00\n",
       "3 30.00\n",
       "4 25.00\n",
       "5  0.92\n",
       "6 47.00"
      ]
     },
     "metadata": {},
     "output_type": "display_data"
    }
   ],
   "source": [
    "head(select(titanic_data_df, titanic_data_df$Age))"
   ]
  },
  {
   "cell_type": "code",
   "execution_count": 19,
   "metadata": {
    "ExecuteTime": {
     "end_time": "2019-02-05T13:44:34.476296Z",
     "start_time": "2019-02-05T13:43:10.995Z"
    }
   },
   "outputs": [
    {
     "data": {
      "text/html": [
       "<table>\n",
       "<thead><tr><th scope=col>Age_in_months</th></tr></thead>\n",
       "<tbody>\n",
       "\t<tr><td>348.00</td></tr>\n",
       "\t<tr><td> 24.00</td></tr>\n",
       "\t<tr><td>360.00</td></tr>\n",
       "\t<tr><td>300.00</td></tr>\n",
       "\t<tr><td> 11.04</td></tr>\n",
       "\t<tr><td>564.00</td></tr>\n",
       "</tbody>\n",
       "</table>\n"
      ],
      "text/latex": [
       "\\begin{tabular}{r|l}\n",
       " Age\\_in\\_months\\\\\n",
       "\\hline\n",
       "\t 348.00\\\\\n",
       "\t  24.00\\\\\n",
       "\t 360.00\\\\\n",
       "\t 300.00\\\\\n",
       "\t  11.04\\\\\n",
       "\t 564.00\\\\\n",
       "\\end{tabular}\n"
      ],
      "text/markdown": [
       "\n",
       "Age_in_months | \n",
       "|---|---|---|---|---|---|\n",
       "| 348.00 | \n",
       "|  24.00 | \n",
       "| 360.00 | \n",
       "| 300.00 | \n",
       "|  11.04 | \n",
       "| 564.00 | \n",
       "\n",
       "\n"
      ],
      "text/plain": [
       "  Age_in_months\n",
       "1 348.00       \n",
       "2  24.00       \n",
       "3 360.00       \n",
       "4 300.00       \n",
       "5  11.04       \n",
       "6 564.00       "
      ]
     },
     "metadata": {},
     "output_type": "display_data"
    }
   ],
   "source": [
    "head(selectExpr(titanic_data_df, \"AGE * 12 AS Age_in_months\"))"
   ]
  },
  {
   "cell_type": "code",
   "execution_count": 20,
   "metadata": {
    "ExecuteTime": {
     "end_time": "2019-02-05T13:44:35.973764Z",
     "start_time": "2019-02-05T13:43:10.998Z"
    }
   },
   "outputs": [
    {
     "data": {
      "text/html": [
       "217"
      ],
      "text/latex": [
       "217"
      ],
      "text/markdown": [
       "217"
      ],
      "text/plain": [
       "[1] 217"
      ]
     },
     "metadata": {},
     "output_type": "display_data"
    }
   ],
   "source": [
    "# Filtering and counting only female survivors\n",
    "female_survivors <- filter(select(titanic_data_df, \"*\"), \"Survived == 1 AND Gender == 'female'\")\n",
    "nrow(female_survivors)"
   ]
  },
  {
   "cell_type": "code",
   "execution_count": 21,
   "metadata": {
    "ExecuteTime": {
     "end_time": "2019-02-05T13:44:36.775906Z",
     "start_time": "2019-02-05T13:43:11.003Z"
    }
   },
   "outputs": [
    {
     "data": {
      "text/html": [
       "<table>\n",
       "<thead><tr><th scope=col>id</th><th scope=col>PClass</th><th scope=col>Age</th><th scope=col>Gender</th><th scope=col>Survived</th><th scope=col>GenderCode</th></tr></thead>\n",
       "<tbody>\n",
       "\t<tr><td> 1    </td><td>1st   </td><td>29    </td><td>female</td><td>1     </td><td>1     </td></tr>\n",
       "\t<tr><td> 7    </td><td>1st   </td><td>63    </td><td>female</td><td>1     </td><td>1     </td></tr>\n",
       "\t<tr><td> 9    </td><td>1st   </td><td>58    </td><td>female</td><td>1     </td><td>1     </td></tr>\n",
       "\t<tr><td>12    </td><td>1st   </td><td>19    </td><td>female</td><td>1     </td><td>1     </td></tr>\n",
       "\t<tr><td>16    </td><td>1st   </td><td>50    </td><td>female</td><td>1     </td><td>1     </td></tr>\n",
       "\t<tr><td>20    </td><td>1st   </td><td>47    </td><td>female</td><td>1     </td><td>1     </td></tr>\n",
       "\t<tr><td>24    </td><td>1st   </td><td>19    </td><td>female</td><td>1     </td><td>1     </td></tr>\n",
       "\t<tr><td>28    </td><td>1st   </td><td>30    </td><td>female</td><td>1     </td><td>1     </td></tr>\n",
       "\t<tr><td>29    </td><td>1st   </td><td>58    </td><td>female</td><td>1     </td><td>1     </td></tr>\n",
       "\t<tr><td>31    </td><td>1st   </td><td>45    </td><td>female</td><td>1     </td><td>1     </td></tr>\n",
       "\t<tr><td>32    </td><td>1st   </td><td>22    </td><td>female</td><td>1     </td><td>1     </td></tr>\n",
       "\t<tr><td>37    </td><td>1st   </td><td>44    </td><td>female</td><td>1     </td><td>1     </td></tr>\n",
       "\t<tr><td>38    </td><td>1st   </td><td>59    </td><td>female</td><td>1     </td><td>1     </td></tr>\n",
       "\t<tr><td>39    </td><td>1st   </td><td>60    </td><td>female</td><td>1     </td><td>1     </td></tr>\n",
       "\t<tr><td>42    </td><td>1st   </td><td>53    </td><td>female</td><td>1     </td><td>1     </td></tr>\n",
       "\t<tr><td>43    </td><td>1st   </td><td>58    </td><td>female</td><td>1     </td><td>1     </td></tr>\n",
       "\t<tr><td>49    </td><td>1st   </td><td>36    </td><td>female</td><td>1     </td><td>1     </td></tr>\n",
       "\t<tr><td>50    </td><td>1st   </td><td>14    </td><td>female</td><td>1     </td><td>1     </td></tr>\n",
       "\t<tr><td>57    </td><td>1st   </td><td>47    </td><td>female</td><td>1     </td><td>1     </td></tr>\n",
       "\t<tr><td>59    </td><td>1st   </td><td>31    </td><td>female</td><td>1     </td><td>1     </td></tr>\n",
       "\t<tr><td>65    </td><td>1st   </td><td>26    </td><td>female</td><td>1     </td><td>1     </td></tr>\n",
       "\t<tr><td>68    </td><td>1st   </td><td>64    </td><td>female</td><td>1     </td><td>1     </td></tr>\n",
       "\t<tr><td>70    </td><td>1st   </td><td>39    </td><td>female</td><td>1     </td><td>1     </td></tr>\n",
       "\t<tr><td>71    </td><td>1st   </td><td>55    </td><td>female</td><td>1     </td><td>1     </td></tr>\n",
       "\t<tr><td>74    </td><td>1st   </td><td>69    </td><td>female</td><td>1     </td><td>1     </td></tr>\n",
       "\t<tr><td>75    </td><td>1st   </td><td>36    </td><td>female</td><td>1     </td><td>1     </td></tr>\n",
       "\t<tr><td>77    </td><td>1st   </td><td>38    </td><td>female</td><td>1     </td><td>1     </td></tr>\n",
       "\t<tr><td>81    </td><td>1st   </td><td>27    </td><td>female</td><td>1     </td><td>1     </td></tr>\n",
       "\t<tr><td>84    </td><td>1st   </td><td>17    </td><td>female</td><td>1     </td><td>1     </td></tr>\n",
       "\t<tr><td>88    </td><td>1st   </td><td>27    </td><td>female</td><td>1     </td><td>1     </td></tr>\n",
       "\t<tr><td>⋮</td><td>⋮</td><td>⋮</td><td>⋮</td><td>⋮</td><td>⋮</td></tr>\n",
       "\t<tr><td> 743  </td><td>3rd   </td><td>17.00 </td><td>female</td><td>1     </td><td>1     </td></tr>\n",
       "\t<tr><td> 749  </td><td>3rd   </td><td>30.00 </td><td>female</td><td>1     </td><td>1     </td></tr>\n",
       "\t<tr><td> 762  </td><td>3rd   </td><td>33.00 </td><td>female</td><td>1     </td><td>1     </td></tr>\n",
       "\t<tr><td> 764  </td><td>3rd   </td><td> 0.17 </td><td>female</td><td>1     </td><td>1     </td></tr>\n",
       "\t<tr><td> 767  </td><td>3rd   </td><td>36.00 </td><td>female</td><td>1     </td><td>1     </td></tr>\n",
       "\t<tr><td> 772  </td><td>3rd   </td><td>19.00 </td><td>female</td><td>1     </td><td>1     </td></tr>\n",
       "\t<tr><td> 779  </td><td>3rd   </td><td>30.00 </td><td>female</td><td>1     </td><td>1     </td></tr>\n",
       "\t<tr><td> 781  </td><td>3rd   </td><td>23.00 </td><td>female</td><td>1     </td><td>1     </td></tr>\n",
       "\t<tr><td> 783  </td><td>3rd   </td><td>24.00 </td><td>female</td><td>1     </td><td>1     </td></tr>\n",
       "\t<tr><td> 786  </td><td>3rd   </td><td>22.00 </td><td>female</td><td>1     </td><td>1     </td></tr>\n",
       "\t<tr><td> 795  </td><td>3rd   </td><td> 5.00 </td><td>female</td><td>1     </td><td>1     </td></tr>\n",
       "\t<tr><td> 816  </td><td>3rd   </td><td>38.00 </td><td>female</td><td>1     </td><td>1     </td></tr>\n",
       "\t<tr><td> 818  </td><td>3rd   </td><td>16.00 </td><td>female</td><td>1     </td><td>1     </td></tr>\n",
       "\t<tr><td> 845  </td><td>3rd   </td><td>24.00 </td><td>female</td><td>1     </td><td>1     </td></tr>\n",
       "\t<tr><td> 848  </td><td>3rd   </td><td>45.00 </td><td>female</td><td>1     </td><td>1     </td></tr>\n",
       "\t<tr><td> 859  </td><td>3rd   </td><td>26.00 </td><td>female</td><td>1     </td><td>1     </td></tr>\n",
       "\t<tr><td> 861  </td><td>3rd   </td><td>22.00 </td><td>female</td><td>1     </td><td>1     </td></tr>\n",
       "\t<tr><td> 866  </td><td>3rd   </td><td>22.00 </td><td>female</td><td>1     </td><td>1     </td></tr>\n",
       "\t<tr><td> 870  </td><td>3rd   </td><td>27.00 </td><td>female</td><td>1     </td><td>1     </td></tr>\n",
       "\t<tr><td> 881  </td><td>3rd   </td><td>19.00 </td><td>female</td><td>1     </td><td>1     </td></tr>\n",
       "\t<tr><td> 894  </td><td>3rd   </td><td> 1.00 </td><td>female</td><td>1     </td><td>1     </td></tr>\n",
       "\t<tr><td> 915  </td><td>3rd   </td><td> 4.00 </td><td>female</td><td>1     </td><td>1     </td></tr>\n",
       "\t<tr><td> 921  </td><td>3rd   </td><td>21.00 </td><td>female</td><td>1     </td><td>1     </td></tr>\n",
       "\t<tr><td> 924  </td><td>3rd   </td><td>21.00 </td><td>female</td><td>1     </td><td>1     </td></tr>\n",
       "\t<tr><td> 934  </td><td>3rd   </td><td> 4.00 </td><td>female</td><td>1     </td><td>1     </td></tr>\n",
       "\t<tr><td> 947  </td><td>3rd   </td><td>22.00 </td><td>female</td><td>1     </td><td>1     </td></tr>\n",
       "\t<tr><td>1264  </td><td>3rd   </td><td>18.00 </td><td>female</td><td>1     </td><td>1     </td></tr>\n",
       "\t<tr><td>1265  </td><td>3rd   </td><td>63.00 </td><td>female</td><td>1     </td><td>1     </td></tr>\n",
       "\t<tr><td>1294  </td><td>3rd   </td><td>45.00 </td><td>female</td><td>1     </td><td>1     </td></tr>\n",
       "\t<tr><td>1305  </td><td>3rd   </td><td>15.00 </td><td>female</td><td>1     </td><td>1     </td></tr>\n",
       "</tbody>\n",
       "</table>\n"
      ],
      "text/latex": [
       "\\begin{tabular}{r|llllll}\n",
       " id & PClass & Age & Gender & Survived & GenderCode\\\\\n",
       "\\hline\n",
       "\t  1     & 1st    & 29     & female & 1      & 1     \\\\\n",
       "\t  7     & 1st    & 63     & female & 1      & 1     \\\\\n",
       "\t  9     & 1st    & 58     & female & 1      & 1     \\\\\n",
       "\t 12     & 1st    & 19     & female & 1      & 1     \\\\\n",
       "\t 16     & 1st    & 50     & female & 1      & 1     \\\\\n",
       "\t 20     & 1st    & 47     & female & 1      & 1     \\\\\n",
       "\t 24     & 1st    & 19     & female & 1      & 1     \\\\\n",
       "\t 28     & 1st    & 30     & female & 1      & 1     \\\\\n",
       "\t 29     & 1st    & 58     & female & 1      & 1     \\\\\n",
       "\t 31     & 1st    & 45     & female & 1      & 1     \\\\\n",
       "\t 32     & 1st    & 22     & female & 1      & 1     \\\\\n",
       "\t 37     & 1st    & 44     & female & 1      & 1     \\\\\n",
       "\t 38     & 1st    & 59     & female & 1      & 1     \\\\\n",
       "\t 39     & 1st    & 60     & female & 1      & 1     \\\\\n",
       "\t 42     & 1st    & 53     & female & 1      & 1     \\\\\n",
       "\t 43     & 1st    & 58     & female & 1      & 1     \\\\\n",
       "\t 49     & 1st    & 36     & female & 1      & 1     \\\\\n",
       "\t 50     & 1st    & 14     & female & 1      & 1     \\\\\n",
       "\t 57     & 1st    & 47     & female & 1      & 1     \\\\\n",
       "\t 59     & 1st    & 31     & female & 1      & 1     \\\\\n",
       "\t 65     & 1st    & 26     & female & 1      & 1     \\\\\n",
       "\t 68     & 1st    & 64     & female & 1      & 1     \\\\\n",
       "\t 70     & 1st    & 39     & female & 1      & 1     \\\\\n",
       "\t 71     & 1st    & 55     & female & 1      & 1     \\\\\n",
       "\t 74     & 1st    & 69     & female & 1      & 1     \\\\\n",
       "\t 75     & 1st    & 36     & female & 1      & 1     \\\\\n",
       "\t 77     & 1st    & 38     & female & 1      & 1     \\\\\n",
       "\t 81     & 1st    & 27     & female & 1      & 1     \\\\\n",
       "\t 84     & 1st    & 17     & female & 1      & 1     \\\\\n",
       "\t 88     & 1st    & 27     & female & 1      & 1     \\\\\n",
       "\t ⋮ & ⋮ & ⋮ & ⋮ & ⋮ & ⋮\\\\\n",
       "\t  743   & 3rd    & 17.00  & female & 1      & 1     \\\\\n",
       "\t  749   & 3rd    & 30.00  & female & 1      & 1     \\\\\n",
       "\t  762   & 3rd    & 33.00  & female & 1      & 1     \\\\\n",
       "\t  764   & 3rd    &  0.17  & female & 1      & 1     \\\\\n",
       "\t  767   & 3rd    & 36.00  & female & 1      & 1     \\\\\n",
       "\t  772   & 3rd    & 19.00  & female & 1      & 1     \\\\\n",
       "\t  779   & 3rd    & 30.00  & female & 1      & 1     \\\\\n",
       "\t  781   & 3rd    & 23.00  & female & 1      & 1     \\\\\n",
       "\t  783   & 3rd    & 24.00  & female & 1      & 1     \\\\\n",
       "\t  786   & 3rd    & 22.00  & female & 1      & 1     \\\\\n",
       "\t  795   & 3rd    &  5.00  & female & 1      & 1     \\\\\n",
       "\t  816   & 3rd    & 38.00  & female & 1      & 1     \\\\\n",
       "\t  818   & 3rd    & 16.00  & female & 1      & 1     \\\\\n",
       "\t  845   & 3rd    & 24.00  & female & 1      & 1     \\\\\n",
       "\t  848   & 3rd    & 45.00  & female & 1      & 1     \\\\\n",
       "\t  859   & 3rd    & 26.00  & female & 1      & 1     \\\\\n",
       "\t  861   & 3rd    & 22.00  & female & 1      & 1     \\\\\n",
       "\t  866   & 3rd    & 22.00  & female & 1      & 1     \\\\\n",
       "\t  870   & 3rd    & 27.00  & female & 1      & 1     \\\\\n",
       "\t  881   & 3rd    & 19.00  & female & 1      & 1     \\\\\n",
       "\t  894   & 3rd    &  1.00  & female & 1      & 1     \\\\\n",
       "\t  915   & 3rd    &  4.00  & female & 1      & 1     \\\\\n",
       "\t  921   & 3rd    & 21.00  & female & 1      & 1     \\\\\n",
       "\t  924   & 3rd    & 21.00  & female & 1      & 1     \\\\\n",
       "\t  934   & 3rd    &  4.00  & female & 1      & 1     \\\\\n",
       "\t  947   & 3rd    & 22.00  & female & 1      & 1     \\\\\n",
       "\t 1264   & 3rd    & 18.00  & female & 1      & 1     \\\\\n",
       "\t 1265   & 3rd    & 63.00  & female & 1      & 1     \\\\\n",
       "\t 1294   & 3rd    & 45.00  & female & 1      & 1     \\\\\n",
       "\t 1305   & 3rd    & 15.00  & female & 1      & 1     \\\\\n",
       "\\end{tabular}\n"
      ],
      "text/markdown": [
       "\n",
       "id | PClass | Age | Gender | Survived | GenderCode | \n",
       "|---|---|---|---|---|---|---|---|---|---|---|---|---|---|---|---|---|---|---|---|---|---|---|---|---|---|---|---|---|---|---|---|---|---|---|---|---|---|---|---|---|---|---|---|---|---|---|---|---|---|---|---|---|---|---|---|---|---|---|---|---|\n",
       "|  1     | 1st    | 29     | female | 1      | 1      | \n",
       "|  7     | 1st    | 63     | female | 1      | 1      | \n",
       "|  9     | 1st    | 58     | female | 1      | 1      | \n",
       "| 12     | 1st    | 19     | female | 1      | 1      | \n",
       "| 16     | 1st    | 50     | female | 1      | 1      | \n",
       "| 20     | 1st    | 47     | female | 1      | 1      | \n",
       "| 24     | 1st    | 19     | female | 1      | 1      | \n",
       "| 28     | 1st    | 30     | female | 1      | 1      | \n",
       "| 29     | 1st    | 58     | female | 1      | 1      | \n",
       "| 31     | 1st    | 45     | female | 1      | 1      | \n",
       "| 32     | 1st    | 22     | female | 1      | 1      | \n",
       "| 37     | 1st    | 44     | female | 1      | 1      | \n",
       "| 38     | 1st    | 59     | female | 1      | 1      | \n",
       "| 39     | 1st    | 60     | female | 1      | 1      | \n",
       "| 42     | 1st    | 53     | female | 1      | 1      | \n",
       "| 43     | 1st    | 58     | female | 1      | 1      | \n",
       "| 49     | 1st    | 36     | female | 1      | 1      | \n",
       "| 50     | 1st    | 14     | female | 1      | 1      | \n",
       "| 57     | 1st    | 47     | female | 1      | 1      | \n",
       "| 59     | 1st    | 31     | female | 1      | 1      | \n",
       "| 65     | 1st    | 26     | female | 1      | 1      | \n",
       "| 68     | 1st    | 64     | female | 1      | 1      | \n",
       "| 70     | 1st    | 39     | female | 1      | 1      | \n",
       "| 71     | 1st    | 55     | female | 1      | 1      | \n",
       "| 74     | 1st    | 69     | female | 1      | 1      | \n",
       "| 75     | 1st    | 36     | female | 1      | 1      | \n",
       "| 77     | 1st    | 38     | female | 1      | 1      | \n",
       "| 81     | 1st    | 27     | female | 1      | 1      | \n",
       "| 84     | 1st    | 17     | female | 1      | 1      | \n",
       "| 88     | 1st    | 27     | female | 1      | 1      | \n",
       "| ⋮ | ⋮ | ⋮ | ⋮ | ⋮ | ⋮ | \n",
       "|  743   | 3rd    | 17.00  | female | 1      | 1      | \n",
       "|  749   | 3rd    | 30.00  | female | 1      | 1      | \n",
       "|  762   | 3rd    | 33.00  | female | 1      | 1      | \n",
       "|  764   | 3rd    |  0.17  | female | 1      | 1      | \n",
       "|  767   | 3rd    | 36.00  | female | 1      | 1      | \n",
       "|  772   | 3rd    | 19.00  | female | 1      | 1      | \n",
       "|  779   | 3rd    | 30.00  | female | 1      | 1      | \n",
       "|  781   | 3rd    | 23.00  | female | 1      | 1      | \n",
       "|  783   | 3rd    | 24.00  | female | 1      | 1      | \n",
       "|  786   | 3rd    | 22.00  | female | 1      | 1      | \n",
       "|  795   | 3rd    |  5.00  | female | 1      | 1      | \n",
       "|  816   | 3rd    | 38.00  | female | 1      | 1      | \n",
       "|  818   | 3rd    | 16.00  | female | 1      | 1      | \n",
       "|  845   | 3rd    | 24.00  | female | 1      | 1      | \n",
       "|  848   | 3rd    | 45.00  | female | 1      | 1      | \n",
       "|  859   | 3rd    | 26.00  | female | 1      | 1      | \n",
       "|  861   | 3rd    | 22.00  | female | 1      | 1      | \n",
       "|  866   | 3rd    | 22.00  | female | 1      | 1      | \n",
       "|  870   | 3rd    | 27.00  | female | 1      | 1      | \n",
       "|  881   | 3rd    | 19.00  | female | 1      | 1      | \n",
       "|  894   | 3rd    |  1.00  | female | 1      | 1      | \n",
       "|  915   | 3rd    |  4.00  | female | 1      | 1      | \n",
       "|  921   | 3rd    | 21.00  | female | 1      | 1      | \n",
       "|  924   | 3rd    | 21.00  | female | 1      | 1      | \n",
       "|  934   | 3rd    |  4.00  | female | 1      | 1      | \n",
       "|  947   | 3rd    | 22.00  | female | 1      | 1      | \n",
       "| 1264   | 3rd    | 18.00  | female | 1      | 1      | \n",
       "| 1265   | 3rd    | 63.00  | female | 1      | 1      | \n",
       "| 1294   | 3rd    | 45.00  | female | 1      | 1      | \n",
       "| 1305   | 3rd    | 15.00  | female | 1      | 1      | \n",
       "\n",
       "\n"
      ],
      "text/plain": [
       "    id   PClass Age   Gender Survived GenderCode\n",
       "1    1   1st    29    female 1        1         \n",
       "2    7   1st    63    female 1        1         \n",
       "3    9   1st    58    female 1        1         \n",
       "4   12   1st    19    female 1        1         \n",
       "5   16   1st    50    female 1        1         \n",
       "6   20   1st    47    female 1        1         \n",
       "7   24   1st    19    female 1        1         \n",
       "8   28   1st    30    female 1        1         \n",
       "9   29   1st    58    female 1        1         \n",
       "10  31   1st    45    female 1        1         \n",
       "11  32   1st    22    female 1        1         \n",
       "12  37   1st    44    female 1        1         \n",
       "13  38   1st    59    female 1        1         \n",
       "14  39   1st    60    female 1        1         \n",
       "15  42   1st    53    female 1        1         \n",
       "16  43   1st    58    female 1        1         \n",
       "17  49   1st    36    female 1        1         \n",
       "18  50   1st    14    female 1        1         \n",
       "19  57   1st    47    female 1        1         \n",
       "20  59   1st    31    female 1        1         \n",
       "21  65   1st    26    female 1        1         \n",
       "22  68   1st    64    female 1        1         \n",
       "23  70   1st    39    female 1        1         \n",
       "24  71   1st    55    female 1        1         \n",
       "25  74   1st    69    female 1        1         \n",
       "26  75   1st    36    female 1        1         \n",
       "27  77   1st    38    female 1        1         \n",
       "28  81   1st    27    female 1        1         \n",
       "29  84   1st    17    female 1        1         \n",
       "30  88   1st    27    female 1        1         \n",
       "⋮   ⋮    ⋮      ⋮     ⋮      ⋮        ⋮         \n",
       "188  743 3rd    17.00 female 1        1         \n",
       "189  749 3rd    30.00 female 1        1         \n",
       "190  762 3rd    33.00 female 1        1         \n",
       "191  764 3rd     0.17 female 1        1         \n",
       "192  767 3rd    36.00 female 1        1         \n",
       "193  772 3rd    19.00 female 1        1         \n",
       "194  779 3rd    30.00 female 1        1         \n",
       "195  781 3rd    23.00 female 1        1         \n",
       "196  783 3rd    24.00 female 1        1         \n",
       "197  786 3rd    22.00 female 1        1         \n",
       "198  795 3rd     5.00 female 1        1         \n",
       "199  816 3rd    38.00 female 1        1         \n",
       "200  818 3rd    16.00 female 1        1         \n",
       "201  845 3rd    24.00 female 1        1         \n",
       "202  848 3rd    45.00 female 1        1         \n",
       "203  859 3rd    26.00 female 1        1         \n",
       "204  861 3rd    22.00 female 1        1         \n",
       "205  866 3rd    22.00 female 1        1         \n",
       "206  870 3rd    27.00 female 1        1         \n",
       "207  881 3rd    19.00 female 1        1         \n",
       "208  894 3rd     1.00 female 1        1         \n",
       "209  915 3rd     4.00 female 1        1         \n",
       "210  921 3rd    21.00 female 1        1         \n",
       "211  924 3rd    21.00 female 1        1         \n",
       "212  934 3rd     4.00 female 1        1         \n",
       "213  947 3rd    22.00 female 1        1         \n",
       "214 1264 3rd    18.00 female 1        1         \n",
       "215 1265 3rd    63.00 female 1        1         \n",
       "216 1294 3rd    45.00 female 1        1         \n",
       "217 1305 3rd    15.00 female 1        1         "
      ]
     },
     "metadata": {},
     "output_type": "display_data"
    }
   ],
   "source": [
    "collect(female_survivors)"
   ]
  },
  {
   "cell_type": "markdown",
   "metadata": {},
   "source": [
    "If you like to use SQL queries, you can transform DataFrame to SQL table and use full SQL clauses to filter and collect data to R data.frame \n",
    "\n",
    "First create temporary SQL table \n",
    "\n",
    "Use SQL against it\n",
    "\n",
    "Transform it to R data.frame for manipulating data with R commands\n"
   ]
  },
  {
   "cell_type": "code",
   "execution_count": 22,
   "metadata": {
    "ExecuteTime": {
     "end_time": "2019-02-05T13:44:36.970536Z",
     "start_time": "2019-02-05T13:43:11.005Z"
    }
   },
   "outputs": [],
   "source": [
    "createOrReplaceTempView(titanic_data_df, \"titanic_data\")"
   ]
  },
  {
   "cell_type": "code",
   "execution_count": 23,
   "metadata": {
    "ExecuteTime": {
     "end_time": "2019-02-05T13:44:38.529701Z",
     "start_time": "2019-02-05T13:43:11.008Z"
    }
   },
   "outputs": [
    {
     "data": {
      "text/html": [
       "91"
      ],
      "text/latex": [
       "91"
      ],
      "text/markdown": [
       "91"
      ],
      "text/plain": [
       "[1] 91"
      ]
     },
     "metadata": {},
     "output_type": "display_data"
    }
   ],
   "source": [
    "male_under_50 <- collect(sql(\"SELECT * FROM titanic_data WHERE Gender == 'male' AND Age < 50 AND Survived == 1\"))\n",
    "nrow(male_under_50)"
   ]
  },
  {
   "cell_type": "code",
   "execution_count": 24,
   "metadata": {
    "ExecuteTime": {
     "end_time": "2019-02-05T13:44:38.779032Z",
     "start_time": "2019-02-05T13:43:11.013Z"
    }
   },
   "outputs": [
    {
     "data": {
      "text/html": [
       "<table>\n",
       "<thead><tr><th scope=col>id</th><th scope=col>PClass</th><th scope=col>Age</th><th scope=col>Gender</th><th scope=col>Survived</th><th scope=col>GenderCode</th></tr></thead>\n",
       "<tbody>\n",
       "\t<tr><td>  5  </td><td>1st  </td><td> 0.92</td><td>male </td><td>1    </td><td>0    </td></tr>\n",
       "\t<tr><td>  6  </td><td>1st  </td><td>47.00</td><td>male </td><td>1    </td><td>0    </td></tr>\n",
       "\t<tr><td> 19  </td><td>1st  </td><td>37.00</td><td>male </td><td>1    </td><td>0    </td></tr>\n",
       "\t<tr><td> 21  </td><td>1st  </td><td>26.00</td><td>male </td><td>1    </td><td>0    </td></tr>\n",
       "\t<tr><td> 23  </td><td>1st  </td><td>25.00</td><td>male </td><td>1    </td><td>0    </td></tr>\n",
       "\t<tr><td> 25  </td><td>1st  </td><td>28.00</td><td>male </td><td>1    </td><td>0    </td></tr>\n",
       "\t<tr><td> 27  </td><td>1st  </td><td>39.00</td><td>male </td><td>1    </td><td>0    </td></tr>\n",
       "\t<tr><td> 44  </td><td>1st  </td><td>36.00</td><td>male </td><td>1    </td><td>0    </td></tr>\n",
       "\t<tr><td> 48  </td><td>1st  </td><td>36.00</td><td>male </td><td>1    </td><td>0    </td></tr>\n",
       "\t<tr><td> 51  </td><td>1st  </td><td>11.00</td><td>male </td><td>1    </td><td>0    </td></tr>\n",
       "\t<tr><td> 58  </td><td>1st  </td><td>27.00</td><td>male </td><td>1    </td><td>0    </td></tr>\n",
       "\t<tr><td> 79  </td><td>1st  </td><td>27.00</td><td>male </td><td>1    </td><td>0    </td></tr>\n",
       "\t<tr><td> 83  </td><td>1st  </td><td>31.00</td><td>male </td><td>1    </td><td>0    </td></tr>\n",
       "\t<tr><td> 87  </td><td>1st  </td><td> 4.00</td><td>male </td><td>1    </td><td>0    </td></tr>\n",
       "\t<tr><td> 91  </td><td>1st  </td><td>49.00</td><td>male </td><td>1    </td><td>0    </td></tr>\n",
       "\t<tr><td>107  </td><td>1st  </td><td>49.00</td><td>male </td><td>1    </td><td>0    </td></tr>\n",
       "\t<tr><td>109  </td><td>1st  </td><td>44.00</td><td>male </td><td>1    </td><td>0    </td></tr>\n",
       "\t<tr><td>118  </td><td>1st  </td><td>49.00</td><td>male </td><td>1    </td><td>0    </td></tr>\n",
       "\t<tr><td>126  </td><td>1st  </td><td>23.00</td><td>male </td><td>1    </td><td>0    </td></tr>\n",
       "\t<tr><td>128  </td><td>1st  </td><td>25.00</td><td>male </td><td>1    </td><td>0    </td></tr>\n",
       "\t<tr><td>130  </td><td>1st  </td><td>48.00</td><td>male </td><td>1    </td><td>0    </td></tr>\n",
       "\t<tr><td>146  </td><td>1st  </td><td>35.00</td><td>male </td><td>1    </td><td>0    </td></tr>\n",
       "\t<tr><td>147  </td><td>1st  </td><td>38.00</td><td>male </td><td>1    </td><td>0    </td></tr>\n",
       "\t<tr><td>151  </td><td>1st  </td><td>49.00</td><td>male </td><td>1    </td><td>0    </td></tr>\n",
       "\t<tr><td>157  </td><td>1st  </td><td>42.00</td><td>male </td><td>1    </td><td>0    </td></tr>\n",
       "\t<tr><td>177  </td><td>1st  </td><td>36.00</td><td>male </td><td>1    </td><td>0    </td></tr>\n",
       "\t<tr><td>222  </td><td>1st  </td><td>13.00</td><td>male </td><td>1    </td><td>0    </td></tr>\n",
       "\t<tr><td>227  </td><td>1st  </td><td>34.00</td><td>male </td><td>1    </td><td>0    </td></tr>\n",
       "\t<tr><td>229  </td><td>1st  </td><td>36.00</td><td>male </td><td>1    </td><td>0    </td></tr>\n",
       "\t<tr><td>233  </td><td>1st  </td><td>28.00</td><td>male </td><td>1    </td><td>0    </td></tr>\n",
       "\t<tr><td>⋮</td><td>⋮</td><td>⋮</td><td>⋮</td><td>⋮</td><td>⋮</td></tr>\n",
       "\t<tr><td> 617 </td><td>3rd  </td><td> 0.83</td><td>male </td><td>1    </td><td>0    </td></tr>\n",
       "\t<tr><td> 645 </td><td>3rd  </td><td> 3.00</td><td>male </td><td>1    </td><td>0    </td></tr>\n",
       "\t<tr><td> 647 </td><td>3rd  </td><td>23.00</td><td>male </td><td>1    </td><td>0    </td></tr>\n",
       "\t<tr><td> 674 </td><td>3rd  </td><td>32.00</td><td>male </td><td>1    </td><td>0    </td></tr>\n",
       "\t<tr><td> 693 </td><td>3rd  </td><td>21.00</td><td>male </td><td>1    </td><td>0    </td></tr>\n",
       "\t<tr><td> 723 </td><td>3rd  </td><td>19.00</td><td>male </td><td>1    </td><td>0    </td></tr>\n",
       "\t<tr><td> 738 </td><td>3rd  </td><td> 3.00</td><td>male </td><td>1    </td><td>0    </td></tr>\n",
       "\t<tr><td> 739 </td><td>3rd  </td><td> 9.00</td><td>male </td><td>1    </td><td>0    </td></tr>\n",
       "\t<tr><td> 745 </td><td>3rd  </td><td>45.00</td><td>male </td><td>1    </td><td>0    </td></tr>\n",
       "\t<tr><td> 748 </td><td>3rd  </td><td>29.00</td><td>male </td><td>1    </td><td>0    </td></tr>\n",
       "\t<tr><td> 763 </td><td>3rd  </td><td> 1.00</td><td>male </td><td>1    </td><td>0    </td></tr>\n",
       "\t<tr><td> 766 </td><td>3rd  </td><td>36.00</td><td>male </td><td>1    </td><td>0    </td></tr>\n",
       "\t<tr><td> 768 </td><td>3rd  </td><td>30.00</td><td>male </td><td>1    </td><td>0    </td></tr>\n",
       "\t<tr><td> 778 </td><td>3rd  </td><td>19.00</td><td>male </td><td>1    </td><td>0    </td></tr>\n",
       "\t<tr><td> 784 </td><td>3rd  </td><td>24.00</td><td>male </td><td>1    </td><td>0    </td></tr>\n",
       "\t<tr><td> 822 </td><td>3rd  </td><td> 9.00</td><td>male </td><td>1    </td><td>0    </td></tr>\n",
       "\t<tr><td> 856 </td><td>3rd  </td><td>27.00</td><td>male </td><td>1    </td><td>0    </td></tr>\n",
       "\t<tr><td> 879 </td><td>3rd  </td><td>27.00</td><td>male </td><td>1    </td><td>0    </td></tr>\n",
       "\t<tr><td> 890 </td><td>3rd  </td><td>32.00</td><td>male </td><td>1    </td><td>0    </td></tr>\n",
       "\t<tr><td> 892 </td><td>3rd  </td><td>26.00</td><td>male </td><td>1    </td><td>0    </td></tr>\n",
       "\t<tr><td> 896 </td><td>3rd  </td><td> 4.00</td><td>male </td><td>1    </td><td>0    </td></tr>\n",
       "\t<tr><td> 904 </td><td>3rd  </td><td>32.00</td><td>male </td><td>1    </td><td>0    </td></tr>\n",
       "\t<tr><td> 907 </td><td>3rd  </td><td>32.00</td><td>male </td><td>1    </td><td>0    </td></tr>\n",
       "\t<tr><td> 912 </td><td>3rd  </td><td>21.00</td><td>male </td><td>1    </td><td>0    </td></tr>\n",
       "\t<tr><td> 932 </td><td>3rd  </td><td>39.00</td><td>male </td><td>1    </td><td>0    </td></tr>\n",
       "\t<tr><td> 941 </td><td>3rd  </td><td>25.00</td><td>male </td><td>1    </td><td>0    </td></tr>\n",
       "\t<tr><td> 949 </td><td>3rd  </td><td>26.00</td><td>male </td><td>1    </td><td>0    </td></tr>\n",
       "\t<tr><td> 969 </td><td>3rd  </td><td>20.00</td><td>male </td><td>1    </td><td>0    </td></tr>\n",
       "\t<tr><td>1259 </td><td>3rd  </td><td>25.00</td><td>male </td><td>1    </td><td>0    </td></tr>\n",
       "\t<tr><td>1280 </td><td>3rd  </td><td>22.00</td><td>male </td><td>1    </td><td>0    </td></tr>\n",
       "</tbody>\n",
       "</table>\n"
      ],
      "text/latex": [
       "\\begin{tabular}{r|llllll}\n",
       " id & PClass & Age & Gender & Survived & GenderCode\\\\\n",
       "\\hline\n",
       "\t   5   & 1st   &  0.92 & male  & 1     & 0    \\\\\n",
       "\t   6   & 1st   & 47.00 & male  & 1     & 0    \\\\\n",
       "\t  19   & 1st   & 37.00 & male  & 1     & 0    \\\\\n",
       "\t  21   & 1st   & 26.00 & male  & 1     & 0    \\\\\n",
       "\t  23   & 1st   & 25.00 & male  & 1     & 0    \\\\\n",
       "\t  25   & 1st   & 28.00 & male  & 1     & 0    \\\\\n",
       "\t  27   & 1st   & 39.00 & male  & 1     & 0    \\\\\n",
       "\t  44   & 1st   & 36.00 & male  & 1     & 0    \\\\\n",
       "\t  48   & 1st   & 36.00 & male  & 1     & 0    \\\\\n",
       "\t  51   & 1st   & 11.00 & male  & 1     & 0    \\\\\n",
       "\t  58   & 1st   & 27.00 & male  & 1     & 0    \\\\\n",
       "\t  79   & 1st   & 27.00 & male  & 1     & 0    \\\\\n",
       "\t  83   & 1st   & 31.00 & male  & 1     & 0    \\\\\n",
       "\t  87   & 1st   &  4.00 & male  & 1     & 0    \\\\\n",
       "\t  91   & 1st   & 49.00 & male  & 1     & 0    \\\\\n",
       "\t 107   & 1st   & 49.00 & male  & 1     & 0    \\\\\n",
       "\t 109   & 1st   & 44.00 & male  & 1     & 0    \\\\\n",
       "\t 118   & 1st   & 49.00 & male  & 1     & 0    \\\\\n",
       "\t 126   & 1st   & 23.00 & male  & 1     & 0    \\\\\n",
       "\t 128   & 1st   & 25.00 & male  & 1     & 0    \\\\\n",
       "\t 130   & 1st   & 48.00 & male  & 1     & 0    \\\\\n",
       "\t 146   & 1st   & 35.00 & male  & 1     & 0    \\\\\n",
       "\t 147   & 1st   & 38.00 & male  & 1     & 0    \\\\\n",
       "\t 151   & 1st   & 49.00 & male  & 1     & 0    \\\\\n",
       "\t 157   & 1st   & 42.00 & male  & 1     & 0    \\\\\n",
       "\t 177   & 1st   & 36.00 & male  & 1     & 0    \\\\\n",
       "\t 222   & 1st   & 13.00 & male  & 1     & 0    \\\\\n",
       "\t 227   & 1st   & 34.00 & male  & 1     & 0    \\\\\n",
       "\t 229   & 1st   & 36.00 & male  & 1     & 0    \\\\\n",
       "\t 233   & 1st   & 28.00 & male  & 1     & 0    \\\\\n",
       "\t ⋮ & ⋮ & ⋮ & ⋮ & ⋮ & ⋮\\\\\n",
       "\t  617  & 3rd   &  0.83 & male  & 1     & 0    \\\\\n",
       "\t  645  & 3rd   &  3.00 & male  & 1     & 0    \\\\\n",
       "\t  647  & 3rd   & 23.00 & male  & 1     & 0    \\\\\n",
       "\t  674  & 3rd   & 32.00 & male  & 1     & 0    \\\\\n",
       "\t  693  & 3rd   & 21.00 & male  & 1     & 0    \\\\\n",
       "\t  723  & 3rd   & 19.00 & male  & 1     & 0    \\\\\n",
       "\t  738  & 3rd   &  3.00 & male  & 1     & 0    \\\\\n",
       "\t  739  & 3rd   &  9.00 & male  & 1     & 0    \\\\\n",
       "\t  745  & 3rd   & 45.00 & male  & 1     & 0    \\\\\n",
       "\t  748  & 3rd   & 29.00 & male  & 1     & 0    \\\\\n",
       "\t  763  & 3rd   &  1.00 & male  & 1     & 0    \\\\\n",
       "\t  766  & 3rd   & 36.00 & male  & 1     & 0    \\\\\n",
       "\t  768  & 3rd   & 30.00 & male  & 1     & 0    \\\\\n",
       "\t  778  & 3rd   & 19.00 & male  & 1     & 0    \\\\\n",
       "\t  784  & 3rd   & 24.00 & male  & 1     & 0    \\\\\n",
       "\t  822  & 3rd   &  9.00 & male  & 1     & 0    \\\\\n",
       "\t  856  & 3rd   & 27.00 & male  & 1     & 0    \\\\\n",
       "\t  879  & 3rd   & 27.00 & male  & 1     & 0    \\\\\n",
       "\t  890  & 3rd   & 32.00 & male  & 1     & 0    \\\\\n",
       "\t  892  & 3rd   & 26.00 & male  & 1     & 0    \\\\\n",
       "\t  896  & 3rd   &  4.00 & male  & 1     & 0    \\\\\n",
       "\t  904  & 3rd   & 32.00 & male  & 1     & 0    \\\\\n",
       "\t  907  & 3rd   & 32.00 & male  & 1     & 0    \\\\\n",
       "\t  912  & 3rd   & 21.00 & male  & 1     & 0    \\\\\n",
       "\t  932  & 3rd   & 39.00 & male  & 1     & 0    \\\\\n",
       "\t  941  & 3rd   & 25.00 & male  & 1     & 0    \\\\\n",
       "\t  949  & 3rd   & 26.00 & male  & 1     & 0    \\\\\n",
       "\t  969  & 3rd   & 20.00 & male  & 1     & 0    \\\\\n",
       "\t 1259  & 3rd   & 25.00 & male  & 1     & 0    \\\\\n",
       "\t 1280  & 3rd   & 22.00 & male  & 1     & 0    \\\\\n",
       "\\end{tabular}\n"
      ],
      "text/markdown": [
       "\n",
       "id | PClass | Age | Gender | Survived | GenderCode | \n",
       "|---|---|---|---|---|---|---|---|---|---|---|---|---|---|---|---|---|---|---|---|---|---|---|---|---|---|---|---|---|---|---|---|---|---|---|---|---|---|---|---|---|---|---|---|---|---|---|---|---|---|---|---|---|---|---|---|---|---|---|---|---|\n",
       "|   5   | 1st   |  0.92 | male  | 1     | 0     | \n",
       "|   6   | 1st   | 47.00 | male  | 1     | 0     | \n",
       "|  19   | 1st   | 37.00 | male  | 1     | 0     | \n",
       "|  21   | 1st   | 26.00 | male  | 1     | 0     | \n",
       "|  23   | 1st   | 25.00 | male  | 1     | 0     | \n",
       "|  25   | 1st   | 28.00 | male  | 1     | 0     | \n",
       "|  27   | 1st   | 39.00 | male  | 1     | 0     | \n",
       "|  44   | 1st   | 36.00 | male  | 1     | 0     | \n",
       "|  48   | 1st   | 36.00 | male  | 1     | 0     | \n",
       "|  51   | 1st   | 11.00 | male  | 1     | 0     | \n",
       "|  58   | 1st   | 27.00 | male  | 1     | 0     | \n",
       "|  79   | 1st   | 27.00 | male  | 1     | 0     | \n",
       "|  83   | 1st   | 31.00 | male  | 1     | 0     | \n",
       "|  87   | 1st   |  4.00 | male  | 1     | 0     | \n",
       "|  91   | 1st   | 49.00 | male  | 1     | 0     | \n",
       "| 107   | 1st   | 49.00 | male  | 1     | 0     | \n",
       "| 109   | 1st   | 44.00 | male  | 1     | 0     | \n",
       "| 118   | 1st   | 49.00 | male  | 1     | 0     | \n",
       "| 126   | 1st   | 23.00 | male  | 1     | 0     | \n",
       "| 128   | 1st   | 25.00 | male  | 1     | 0     | \n",
       "| 130   | 1st   | 48.00 | male  | 1     | 0     | \n",
       "| 146   | 1st   | 35.00 | male  | 1     | 0     | \n",
       "| 147   | 1st   | 38.00 | male  | 1     | 0     | \n",
       "| 151   | 1st   | 49.00 | male  | 1     | 0     | \n",
       "| 157   | 1st   | 42.00 | male  | 1     | 0     | \n",
       "| 177   | 1st   | 36.00 | male  | 1     | 0     | \n",
       "| 222   | 1st   | 13.00 | male  | 1     | 0     | \n",
       "| 227   | 1st   | 34.00 | male  | 1     | 0     | \n",
       "| 229   | 1st   | 36.00 | male  | 1     | 0     | \n",
       "| 233   | 1st   | 28.00 | male  | 1     | 0     | \n",
       "| ⋮ | ⋮ | ⋮ | ⋮ | ⋮ | ⋮ | \n",
       "|  617  | 3rd   |  0.83 | male  | 1     | 0     | \n",
       "|  645  | 3rd   |  3.00 | male  | 1     | 0     | \n",
       "|  647  | 3rd   | 23.00 | male  | 1     | 0     | \n",
       "|  674  | 3rd   | 32.00 | male  | 1     | 0     | \n",
       "|  693  | 3rd   | 21.00 | male  | 1     | 0     | \n",
       "|  723  | 3rd   | 19.00 | male  | 1     | 0     | \n",
       "|  738  | 3rd   |  3.00 | male  | 1     | 0     | \n",
       "|  739  | 3rd   |  9.00 | male  | 1     | 0     | \n",
       "|  745  | 3rd   | 45.00 | male  | 1     | 0     | \n",
       "|  748  | 3rd   | 29.00 | male  | 1     | 0     | \n",
       "|  763  | 3rd   |  1.00 | male  | 1     | 0     | \n",
       "|  766  | 3rd   | 36.00 | male  | 1     | 0     | \n",
       "|  768  | 3rd   | 30.00 | male  | 1     | 0     | \n",
       "|  778  | 3rd   | 19.00 | male  | 1     | 0     | \n",
       "|  784  | 3rd   | 24.00 | male  | 1     | 0     | \n",
       "|  822  | 3rd   |  9.00 | male  | 1     | 0     | \n",
       "|  856  | 3rd   | 27.00 | male  | 1     | 0     | \n",
       "|  879  | 3rd   | 27.00 | male  | 1     | 0     | \n",
       "|  890  | 3rd   | 32.00 | male  | 1     | 0     | \n",
       "|  892  | 3rd   | 26.00 | male  | 1     | 0     | \n",
       "|  896  | 3rd   |  4.00 | male  | 1     | 0     | \n",
       "|  904  | 3rd   | 32.00 | male  | 1     | 0     | \n",
       "|  907  | 3rd   | 32.00 | male  | 1     | 0     | \n",
       "|  912  | 3rd   | 21.00 | male  | 1     | 0     | \n",
       "|  932  | 3rd   | 39.00 | male  | 1     | 0     | \n",
       "|  941  | 3rd   | 25.00 | male  | 1     | 0     | \n",
       "|  949  | 3rd   | 26.00 | male  | 1     | 0     | \n",
       "|  969  | 3rd   | 20.00 | male  | 1     | 0     | \n",
       "| 1259  | 3rd   | 25.00 | male  | 1     | 0     | \n",
       "| 1280  | 3rd   | 22.00 | male  | 1     | 0     | \n",
       "\n",
       "\n"
      ],
      "text/plain": [
       "   id   PClass Age   Gender Survived GenderCode\n",
       "1    5  1st     0.92 male   1        0         \n",
       "2    6  1st    47.00 male   1        0         \n",
       "3   19  1st    37.00 male   1        0         \n",
       "4   21  1st    26.00 male   1        0         \n",
       "5   23  1st    25.00 male   1        0         \n",
       "6   25  1st    28.00 male   1        0         \n",
       "7   27  1st    39.00 male   1        0         \n",
       "8   44  1st    36.00 male   1        0         \n",
       "9   48  1st    36.00 male   1        0         \n",
       "10  51  1st    11.00 male   1        0         \n",
       "11  58  1st    27.00 male   1        0         \n",
       "12  79  1st    27.00 male   1        0         \n",
       "13  83  1st    31.00 male   1        0         \n",
       "14  87  1st     4.00 male   1        0         \n",
       "15  91  1st    49.00 male   1        0         \n",
       "16 107  1st    49.00 male   1        0         \n",
       "17 109  1st    44.00 male   1        0         \n",
       "18 118  1st    49.00 male   1        0         \n",
       "19 126  1st    23.00 male   1        0         \n",
       "20 128  1st    25.00 male   1        0         \n",
       "21 130  1st    48.00 male   1        0         \n",
       "22 146  1st    35.00 male   1        0         \n",
       "23 147  1st    38.00 male   1        0         \n",
       "24 151  1st    49.00 male   1        0         \n",
       "25 157  1st    42.00 male   1        0         \n",
       "26 177  1st    36.00 male   1        0         \n",
       "27 222  1st    13.00 male   1        0         \n",
       "28 227  1st    34.00 male   1        0         \n",
       "29 229  1st    36.00 male   1        0         \n",
       "30 233  1st    28.00 male   1        0         \n",
       "⋮  ⋮    ⋮      ⋮     ⋮      ⋮        ⋮         \n",
       "62  617 3rd     0.83 male   1        0         \n",
       "63  645 3rd     3.00 male   1        0         \n",
       "64  647 3rd    23.00 male   1        0         \n",
       "65  674 3rd    32.00 male   1        0         \n",
       "66  693 3rd    21.00 male   1        0         \n",
       "67  723 3rd    19.00 male   1        0         \n",
       "68  738 3rd     3.00 male   1        0         \n",
       "69  739 3rd     9.00 male   1        0         \n",
       "70  745 3rd    45.00 male   1        0         \n",
       "71  748 3rd    29.00 male   1        0         \n",
       "72  763 3rd     1.00 male   1        0         \n",
       "73  766 3rd    36.00 male   1        0         \n",
       "74  768 3rd    30.00 male   1        0         \n",
       "75  778 3rd    19.00 male   1        0         \n",
       "76  784 3rd    24.00 male   1        0         \n",
       "77  822 3rd     9.00 male   1        0         \n",
       "78  856 3rd    27.00 male   1        0         \n",
       "79  879 3rd    27.00 male   1        0         \n",
       "80  890 3rd    32.00 male   1        0         \n",
       "81  892 3rd    26.00 male   1        0         \n",
       "82  896 3rd     4.00 male   1        0         \n",
       "83  904 3rd    32.00 male   1        0         \n",
       "84  907 3rd    32.00 male   1        0         \n",
       "85  912 3rd    21.00 male   1        0         \n",
       "86  932 3rd    39.00 male   1        0         \n",
       "87  941 3rd    25.00 male   1        0         \n",
       "88  949 3rd    26.00 male   1        0         \n",
       "89  969 3rd    20.00 male   1        0         \n",
       "90 1259 3rd    25.00 male   1        0         \n",
       "91 1280 3rd    22.00 male   1        0         "
      ]
     },
     "metadata": {},
     "output_type": "display_data"
    }
   ],
   "source": [
    "male_under_50"
   ]
  },
  {
   "cell_type": "markdown",
   "metadata": {
    "ExecuteTime": {
     "end_time": "2019-02-05T06:49:07.273564Z",
     "start_time": "2019-02-05T06:49:07.212Z"
    }
   },
   "source": [
    "## Aggregating and sorting"
   ]
  },
  {
   "cell_type": "code",
   "execution_count": 25,
   "metadata": {
    "ExecuteTime": {
     "end_time": "2019-02-05T13:44:47.877454Z",
     "start_time": "2019-02-05T13:43:11.014Z"
    }
   },
   "outputs": [
    {
     "data": {
      "text/html": [
       "<table>\n",
       "<thead><tr><th scope=col>PClass</th><th scope=col>Amount</th></tr></thead>\n",
       "<tbody>\n",
       "\t<tr><td>2nd</td><td>212</td></tr>\n",
       "\t<tr><td>1st</td><td>226</td></tr>\n",
       "\t<tr><td>3rd</td><td>318</td></tr>\n",
       "</tbody>\n",
       "</table>\n"
      ],
      "text/latex": [
       "\\begin{tabular}{r|ll}\n",
       " PClass & Amount\\\\\n",
       "\\hline\n",
       "\t 2nd & 212\\\\\n",
       "\t 1st & 226\\\\\n",
       "\t 3rd & 318\\\\\n",
       "\\end{tabular}\n"
      ],
      "text/markdown": [
       "\n",
       "PClass | Amount | \n",
       "|---|---|---|\n",
       "| 2nd | 212 | \n",
       "| 1st | 226 | \n",
       "| 3rd | 318 | \n",
       "\n",
       "\n"
      ],
      "text/plain": [
       "  PClass Amount\n",
       "1 2nd    212   \n",
       "2 1st    226   \n",
       "3 3rd    318   "
      ]
     },
     "metadata": {},
     "output_type": "display_data"
    }
   ],
   "source": [
    "# Group passengers by different Passenger Class and count amount of people in each  \n",
    "titanic_pclass <- collect(agg(groupBy(titanic_data_df, \"PClass\"),\n",
    "                             Amount=n(titanic_data_df$PClass)\n",
    "                             ))\n",
    "titanic_pclass"
   ]
  },
  {
   "cell_type": "code",
   "execution_count": 26,
   "metadata": {
    "ExecuteTime": {
     "end_time": "2019-02-05T13:44:51.883543Z",
     "start_time": "2019-02-05T13:43:11.016Z"
    }
   },
   "outputs": [
    {
     "data": {
      "text/html": [
       "<table>\n",
       "<thead><tr><th scope=col>PClass</th><th scope=col>PClass_count</th></tr></thead>\n",
       "<tbody>\n",
       "\t<tr><td>2nd</td><td>212</td></tr>\n",
       "\t<tr><td>1st</td><td>226</td></tr>\n",
       "\t<tr><td>3rd</td><td>318</td></tr>\n",
       "</tbody>\n",
       "</table>\n"
      ],
      "text/latex": [
       "\\begin{tabular}{r|ll}\n",
       " PClass & PClass\\_count\\\\\n",
       "\\hline\n",
       "\t 2nd & 212\\\\\n",
       "\t 1st & 226\\\\\n",
       "\t 3rd & 318\\\\\n",
       "\\end{tabular}\n"
      ],
      "text/markdown": [
       "\n",
       "PClass | PClass_count | \n",
       "|---|---|---|\n",
       "| 2nd | 212 | \n",
       "| 1st | 226 | \n",
       "| 3rd | 318 | \n",
       "\n",
       "\n"
      ],
      "text/plain": [
       "  PClass PClass_count\n",
       "1 2nd    212         \n",
       "2 1st    226         \n",
       "3 3rd    318         "
      ]
     },
     "metadata": {},
     "output_type": "display_data"
    }
   ],
   "source": [
    "# Aggregating, joining and sorting using SQL syntax to get overview about people and survivals of each class\n",
    "class_counts <- sql(\"SELECT PClass, COUNT(PClass) AS PClass_count FROM titanic_data GROUP BY pclass\")\n",
    "collect(class_counts)"
   ]
  },
  {
   "cell_type": "code",
   "execution_count": 27,
   "metadata": {
    "ExecuteTime": {
     "end_time": "2019-02-05T13:44:54.843111Z",
     "start_time": "2019-02-05T13:43:11.017Z"
    },
    "scrolled": true
   },
   "outputs": [
    {
     "data": {
      "text/html": [
       "<table>\n",
       "<thead><tr><th scope=col>PClass</th><th scope=col>PClass_survivors</th></tr></thead>\n",
       "<tbody>\n",
       "\t<tr><td>2nd</td><td> 96</td></tr>\n",
       "\t<tr><td>1st</td><td>139</td></tr>\n",
       "\t<tr><td>3rd</td><td> 78</td></tr>\n",
       "</tbody>\n",
       "</table>\n"
      ],
      "text/latex": [
       "\\begin{tabular}{r|ll}\n",
       " PClass & PClass\\_survivors\\\\\n",
       "\\hline\n",
       "\t 2nd &  96\\\\\n",
       "\t 1st & 139\\\\\n",
       "\t 3rd &  78\\\\\n",
       "\\end{tabular}\n"
      ],
      "text/markdown": [
       "\n",
       "PClass | PClass_survivors | \n",
       "|---|---|---|\n",
       "| 2nd |  96 | \n",
       "| 1st | 139 | \n",
       "| 3rd |  78 | \n",
       "\n",
       "\n"
      ],
      "text/plain": [
       "  PClass PClass_survivors\n",
       "1 2nd     96             \n",
       "2 1st    139             \n",
       "3 3rd     78             "
      ]
     },
     "metadata": {},
     "output_type": "display_data"
    }
   ],
   "source": [
    "class_survivors <- sql(\"SELECT PClass, COUNT(PClass) AS PClass_survivors FROM titanic_data WHERE Survived == 1 GROUP BY PClass\")\n",
    "collect(class_survivors)"
   ]
  },
  {
   "cell_type": "code",
   "execution_count": 28,
   "metadata": {
    "ExecuteTime": {
     "end_time": "2019-02-05T13:45:00.695003Z",
     "start_time": "2019-02-05T13:43:11.019Z"
    }
   },
   "outputs": [
    {
     "data": {
      "text/html": [
       "<table>\n",
       "<thead><tr><th scope=col>PClass</th><th scope=col>PClass_count</th><th scope=col>PClass</th><th scope=col>PClass_survivors</th></tr></thead>\n",
       "<tbody>\n",
       "\t<tr><td>2nd</td><td>212</td><td>2nd</td><td> 96</td></tr>\n",
       "\t<tr><td>1st</td><td>226</td><td>1st</td><td>139</td></tr>\n",
       "\t<tr><td>3rd</td><td>318</td><td>3rd</td><td> 78</td></tr>\n",
       "</tbody>\n",
       "</table>\n"
      ],
      "text/latex": [
       "\\begin{tabular}{r|llll}\n",
       " PClass & PClass\\_count & PClass & PClass\\_survivors\\\\\n",
       "\\hline\n",
       "\t 2nd & 212 & 2nd &  96\\\\\n",
       "\t 1st & 226 & 1st & 139\\\\\n",
       "\t 3rd & 318 & 3rd &  78\\\\\n",
       "\\end{tabular}\n"
      ],
      "text/markdown": [
       "\n",
       "PClass | PClass_count | PClass | PClass_survivors | \n",
       "|---|---|---|\n",
       "| 2nd | 212 | 2nd |  96 | \n",
       "| 1st | 226 | 1st | 139 | \n",
       "| 3rd | 318 | 3rd |  78 | \n",
       "\n",
       "\n"
      ],
      "text/plain": [
       "  PClass PClass_count PClass PClass_survivors\n",
       "1 2nd    212          2nd     96             \n",
       "2 1st    226          1st    139             \n",
       "3 3rd    318          3rd     78             "
      ]
     },
     "metadata": {},
     "output_type": "display_data"
    }
   ],
   "source": [
    "# Double PClass should be cleaned\n",
    "joined_counts <- join(class_counts,class_survivors, class_counts$PClass == class_survivors$PClass)\n",
    "collect(joined_counts)"
   ]
  },
  {
   "cell_type": "markdown",
   "metadata": {},
   "source": [
    "Plotting to visualize differences in survival ratios between classes"
   ]
  },
  {
   "cell_type": "code",
   "execution_count": null,
   "metadata": {},
   "outputs": [],
   "source": []
  },
  {
   "cell_type": "markdown",
   "metadata": {},
   "source": [
    "Other joining example: Mapping names to the list of survived female"
   ]
  },
  {
   "cell_type": "code",
   "execution_count": 29,
   "metadata": {
    "ExecuteTime": {
     "end_time": "2019-02-05T13:45:00.884984Z",
     "start_time": "2019-02-05T13:43:11.023Z"
    }
   },
   "outputs": [],
   "source": [
    "# Double ID's should be removed\n",
    "females_with_names <- join(female_survivors, titanic_names_df, female_survivors$id == titanic_names_df$id)"
   ]
  },
  {
   "cell_type": "code",
   "execution_count": 30,
   "metadata": {
    "ExecuteTime": {
     "end_time": "2019-02-05T13:45:03.592934Z",
     "start_time": "2019-02-05T13:43:11.026Z"
    }
   },
   "outputs": [
    {
     "data": {
      "text/html": [
       "<table>\n",
       "<thead><tr><th scope=col>id</th><th scope=col>PClass</th><th scope=col>Age</th><th scope=col>Gender</th><th scope=col>Survived</th><th scope=col>GenderCode</th><th scope=col>id</th><th scope=col>Name</th></tr></thead>\n",
       "<tbody>\n",
       "\t<tr><td> 1                                                            </td><td>1st                                                           </td><td>29                                                            </td><td>female                                                        </td><td>1                                                             </td><td>1                                                             </td><td> 1                                                            </td><td>Allen, Miss Elisabeth Walton                                  </td></tr>\n",
       "\t<tr><td> 7                                                            </td><td>1st                                                           </td><td>63                                                            </td><td>female                                                        </td><td>1                                                             </td><td>1                                                             </td><td> 7                                                            </td><td>Andrews, Miss Kornelia Theodosia                              </td></tr>\n",
       "\t<tr><td> 9                                                            </td><td>1st                                                           </td><td>58                                                            </td><td>female                                                        </td><td>1                                                             </td><td>1                                                             </td><td> 9                                                            </td><td>Appleton, Mrs Edward Dale (Charlotte Lamson)                  </td></tr>\n",
       "\t<tr><td>12                                                            </td><td>1st                                                           </td><td>19                                                            </td><td>female                                                        </td><td>1                                                             </td><td>1                                                             </td><td>12                                                            </td><td>Astor, Mrs John Jacob (Madeleine Talmadge Force)              </td></tr>\n",
       "\t<tr><td>16                                                            </td><td>1st                                                           </td><td>50                                                            </td><td>female                                                        </td><td>1                                                             </td><td>1                                                             </td><td>16                                                            </td><td>Baxter, Mrs James (Helene DeLaudeniere Chaput)                </td></tr>\n",
       "\t<tr><td>20                                                            </td><td>1st                                                           </td><td>47                                                            </td><td>female                                                        </td><td>1                                                             </td><td>1                                                             </td><td>20                                                            </td><td>Beckwith, Mrs Richard Leonard (Sallie Monypeny)               </td></tr>\n",
       "\t<tr><td>24                                                            </td><td>1st                                                           </td><td>19                                                            </td><td>female                                                        </td><td>1                                                             </td><td>1                                                             </td><td>24                                                            </td><td>Bishop, Mrs Dickinson H (Helen Walton)                        </td></tr>\n",
       "\t<tr><td>28                                                            </td><td>1st                                                           </td><td>30                                                            </td><td>female                                                        </td><td>1                                                             </td><td>1                                                             </td><td>28                                                            </td><td>Bonnell, Miss Caroline                                        </td></tr>\n",
       "\t<tr><td>29                                                            </td><td>1st                                                           </td><td>58                                                            </td><td>female                                                        </td><td>1                                                             </td><td>1                                                             </td><td>29                                                            </td><td>Bonnell, Miss Elizabeth                                       </td></tr>\n",
       "\t<tr><td>31                                                            </td><td>1st                                                           </td><td>45                                                            </td><td>female                                                        </td><td>1                                                             </td><td>1                                                             </td><td>31                                                            </td><td>Bowen, Miss Grace Scott                                       </td></tr>\n",
       "\t<tr><td>32                                                            </td><td>1st                                                           </td><td>22                                                            </td><td>female                                                        </td><td>1                                                             </td><td>1                                                             </td><td>32                                                            </td><td>Bowerman, Miss Elsie Edith                                    </td></tr>\n",
       "\t<tr><td>37                                                            </td><td>1st                                                           </td><td>44                                                            </td><td>female                                                        </td><td>1                                                             </td><td>1                                                             </td><td>37                                                            </td><td>\"Brown, Mrs James Joseph (Margaret Molly\"\" Tobin)\"\"\"          </td></tr>\n",
       "\t<tr><td>38                                                            </td><td>1st                                                           </td><td>59                                                            </td><td>female                                                        </td><td>1                                                             </td><td>1                                                             </td><td>38                                                            </td><td>Brown, Mrs John Murray (Caroline Lane Lamson)                 </td></tr>\n",
       "\t<tr><td>39                                                            </td><td>1st                                                           </td><td>60                                                            </td><td>female                                                        </td><td>1                                                             </td><td>1                                                             </td><td>39                                                            </td><td>Bucknell, Mrs William Robert (Emma Eliza Ward)                </td></tr>\n",
       "\t<tr><td>42                                                            </td><td>1st                                                           </td><td>53                                                            </td><td>female                                                        </td><td>1                                                             </td><td>1                                                             </td><td>42                                                            </td><td>Candee, Mrs Edward (Helen Churchill Hungerford)               </td></tr>\n",
       "\t<tr><td>43                                                            </td><td>1st                                                           </td><td>58                                                            </td><td>female                                                        </td><td>1                                                             </td><td>1                                                             </td><td>43                                                            </td><td>Cardeza, Mrs James Warburton Martinez (Charlotte Wardle Drake)</td></tr>\n",
       "\t<tr><td>49                                                            </td><td>1st                                                           </td><td>36                                                            </td><td>female                                                        </td><td>1                                                             </td><td>1                                                             </td><td>49                                                            </td><td>Carter, Mrs William Ernest (Lucile Polk)                      </td></tr>\n",
       "\t<tr><td>50                                                            </td><td>1st                                                           </td><td>14                                                            </td><td>female                                                        </td><td>1                                                             </td><td>1                                                             </td><td>50                                                            </td><td>Carter, Miss Lucile Polk                                      </td></tr>\n",
       "\t<tr><td>57                                                            </td><td>1st                                                           </td><td>47                                                            </td><td>female                                                        </td><td>1                                                             </td><td>1                                                             </td><td>57                                                            </td><td>Chaffee, Mrs Herbert Fuller (Carrie Constance Toogood)        </td></tr>\n",
       "\t<tr><td>59                                                            </td><td>1st                                                           </td><td>31                                                            </td><td>female                                                        </td><td>1                                                             </td><td>1                                                             </td><td>59                                                            </td><td>Chambers, Mrs Norman Campbell (Bertha Griggs)                 </td></tr>\n",
       "\t<tr><td>65                                                            </td><td>1st                                                           </td><td>26                                                            </td><td>female                                                        </td><td>1                                                             </td><td>1                                                             </td><td>65                                                            </td><td>Clark, Mrs Walter Miller (Virginia McDowell)                  </td></tr>\n",
       "\t<tr><td>68                                                            </td><td>1st                                                           </td><td>64                                                            </td><td>female                                                        </td><td>1                                                             </td><td>1                                                             </td><td>68                                                            </td><td>Compton, Mrs Alexander Taylor (Mary Eliza Ingersoll)          </td></tr>\n",
       "\t<tr><td>70                                                            </td><td>1st                                                           </td><td>39                                                            </td><td>female                                                        </td><td>1                                                             </td><td>1                                                             </td><td>70                                                            </td><td>Compton, Miss Sara Rebecca                                    </td></tr>\n",
       "\t<tr><td>71                                                            </td><td>1st                                                           </td><td>55                                                            </td><td>female                                                        </td><td>1                                                             </td><td>1                                                             </td><td>71                                                            </td><td>Cornell, Mrs Robert Clifford (Malvina Helen Lamson)           </td></tr>\n",
       "\t<tr><td>74                                                            </td><td>1st                                                           </td><td>69                                                            </td><td>female                                                        </td><td>1                                                             </td><td>1                                                             </td><td>74                                                            </td><td>Crosby, Mrs Edward Gifford (Catherine Elizabeth Halstead)     </td></tr>\n",
       "\t<tr><td>75                                                            </td><td>1st                                                           </td><td>36                                                            </td><td>female                                                        </td><td>1                                                             </td><td>1                                                             </td><td>75                                                            </td><td>Crosby, Miss Harriet R                                        </td></tr>\n",
       "\t<tr><td>77                                                            </td><td>1st                                                           </td><td>38                                                            </td><td>female                                                        </td><td>1                                                             </td><td>1                                                             </td><td>77                                                            </td><td>Cumings, Mrs John Bradley (Florence Briggs Thayer)            </td></tr>\n",
       "\t<tr><td>81                                                            </td><td>1st                                                           </td><td>27                                                            </td><td>female                                                        </td><td>1                                                             </td><td>1                                                             </td><td>81                                                            </td><td>Davidson, Mrs Thornton (Orian Hays)                           </td></tr>\n",
       "\t<tr><td>84                                                            </td><td>1st                                                           </td><td>17                                                            </td><td>female                                                        </td><td>1                                                             </td><td>1                                                             </td><td>84                                                            </td><td>Dick, Mrs Albert Adrian Vera Gillespie                        </td></tr>\n",
       "\t<tr><td>88                                                            </td><td>1st                                                           </td><td>27                                                            </td><td>female                                                        </td><td>1                                                             </td><td>1                                                             </td><td>88                                                            </td><td>Douglas, Mrs Frederick Charles (Suzette Baxter)               </td></tr>\n",
       "\t<tr><td>⋮</td><td>⋮</td><td>⋮</td><td>⋮</td><td>⋮</td><td>⋮</td><td>⋮</td><td>⋮</td></tr>\n",
       "\t<tr><td> 743                                                      </td><td>3rd                                                       </td><td>17.00                                                     </td><td>female                                                    </td><td>1                                                         </td><td>1                                                         </td><td> 743                                                      </td><td>Cribb, Miss Laura Alice                                   </td></tr>\n",
       "\t<tr><td> 749                                                      </td><td>3rd                                                       </td><td>30.00                                                     </td><td>female                                                    </td><td>1                                                         </td><td>1                                                         </td><td> 749                                                      </td><td>Daly, Miss Marcella                                       </td></tr>\n",
       "\t<tr><td> 762                                                      </td><td>3rd                                                       </td><td>33.00                                                     </td><td>female                                                    </td><td>1                                                         </td><td>1                                                         </td><td> 762                                                      </td><td>Dean, Mrs Bertram (Eva)                                   </td></tr>\n",
       "\t<tr><td> 764                                                      </td><td>3rd                                                       </td><td> 0.17                                                     </td><td>female                                                    </td><td>1                                                         </td><td>1                                                         </td><td> 764                                                      </td><td>Dean, Miss Elizabeth Gladys (Millvena)                    </td></tr>\n",
       "\t<tr><td> 767                                                      </td><td>3rd                                                       </td><td>36.00                                                     </td><td>female                                                    </td><td>1                                                         </td><td>1                                                         </td><td> 767                                                      </td><td>De Messemaeker, Mrs William Joseph (Anna)                 </td></tr>\n",
       "\t<tr><td> 772                                                      </td><td>3rd                                                       </td><td>19.00                                                     </td><td>female                                                    </td><td>1                                                         </td><td>1                                                         </td><td> 772                                                      </td><td>Devaney, Miss Margaret                                    </td></tr>\n",
       "\t<tr><td> 779                                                      </td><td>3rd                                                       </td><td>30.00                                                     </td><td>female                                                    </td><td>1                                                         </td><td>1                                                         </td><td> 779                                                      </td><td>Dowdell, Miss Elizabeth                                   </td></tr>\n",
       "\t<tr><td> 781                                                      </td><td>3rd                                                       </td><td>23.00                                                     </td><td>female                                                    </td><td>1                                                         </td><td>1                                                         </td><td> 781                                                      </td><td>Drapkin, Miss Jennie                                      </td></tr>\n",
       "\t<tr><td> 783                                                      </td><td>3rd                                                       </td><td>24.00                                                     </td><td>female                                                    </td><td>1                                                         </td><td>1                                                         </td><td> 783                                                      </td><td>Driscoll, Miss Bridget                                    </td></tr>\n",
       "\t<tr><td> 786                                                      </td><td>3rd                                                       </td><td>22.00                                                     </td><td>female                                                    </td><td>1                                                         </td><td>1                                                         </td><td> 786                                                      </td><td>Dyker, Mrs Adolf Fredrik (Anna Elizabeth Judith Andersson)</td></tr>\n",
       "\t<tr><td> 795                                                      </td><td>3rd                                                       </td><td> 5.00                                                     </td><td>female                                                    </td><td>1                                                         </td><td>1                                                         </td><td> 795                                                      </td><td>Emanuel, Miss Virginia Ethel                              </td></tr>\n",
       "\t<tr><td> 816                                                      </td><td>3rd                                                       </td><td>38.00                                                     </td><td>female                                                    </td><td>1                                                         </td><td>1                                                         </td><td> 816                                                      </td><td>Georges, Mrs Shahini Weappi                               </td></tr>\n",
       "\t<tr><td> 818                                                      </td><td>3rd                                                       </td><td>16.00                                                     </td><td>female                                                    </td><td>1                                                         </td><td>1                                                         </td><td> 818                                                      </td><td>Gilnagh, Miss Katie                                       </td></tr>\n",
       "\t<tr><td> 845                                                      </td><td>3rd                                                       </td><td>24.00                                                     </td><td>female                                                    </td><td>1                                                         </td><td>1                                                         </td><td> 845                                                      </td><td>Hakkarainen, Mrs Pekko Pietari                            </td></tr>\n",
       "\t<tr><td> 848                                                      </td><td>3rd                                                       </td><td>45.00                                                     </td><td>female                                                    </td><td>1                                                         </td><td>1                                                         </td><td> 848                                                      </td><td>Hansen, Mrs Claus Peter                                   </td></tr>\n",
       "\t<tr><td> 859                                                      </td><td>3rd                                                       </td><td>26.00                                                     </td><td>female                                                    </td><td>1                                                         </td><td>1                                                         </td><td> 859                                                      </td><td>Heikkinen, Miss Laina                                     </td></tr>\n",
       "\t<tr><td> 861                                                      </td><td>3rd                                                       </td><td>22.00                                                     </td><td>female                                                    </td><td>1                                                         </td><td>1                                                         </td><td> 861                                                      </td><td>Hellstrom, Hilda Maria                                    </td></tr>\n",
       "\t<tr><td> 866                                                      </td><td>3rd                                                       </td><td>22.00                                                     </td><td>female                                                    </td><td>1                                                         </td><td>1                                                         </td><td> 866                                                      </td><td>Hirvonen, Mrs Alexander                                   </td></tr>\n",
       "\t<tr><td> 870                                                      </td><td>3rd                                                       </td><td>27.00                                                     </td><td>female                                                    </td><td>1                                                         </td><td>1                                                         </td><td> 870                                                      </td><td>Honkanen, Miss Eluna                                      </td></tr>\n",
       "\t<tr><td> 881                                                      </td><td>3rd                                                       </td><td>19.00                                                     </td><td>female                                                    </td><td>1                                                         </td><td>1                                                         </td><td> 881                                                      </td><td>Jensen, Miss Carla Christine                              </td></tr>\n",
       "\t<tr><td> 894                                                      </td><td>3rd                                                       </td><td> 1.00                                                     </td><td>female                                                    </td><td>1                                                         </td><td>1                                                         </td><td> 894                                                      </td><td>Johnson, Miss Eleanor Ileen                               </td></tr>\n",
       "\t<tr><td> 915                                                      </td><td>3rd                                                       </td><td> 4.00                                                     </td><td>female                                                    </td><td>1                                                         </td><td>1                                                         </td><td> 915                                                      </td><td>Karun, Miss Anna Mary                                     </td></tr>\n",
       "\t<tr><td> 921                                                      </td><td>3rd                                                       </td><td>21.00                                                     </td><td>female                                                    </td><td>1                                                         </td><td>1                                                         </td><td> 921                                                      </td><td>Kelly, Miss Anna Kate                                     </td></tr>\n",
       "\t<tr><td> 924                                                      </td><td>3rd                                                       </td><td>21.00                                                     </td><td>female                                                    </td><td>1                                                         </td><td>1                                                         </td><td> 924                                                      </td><td>Kelly, Miss Mary                                          </td></tr>\n",
       "\t<tr><td> 934                                                      </td><td>3rd                                                       </td><td> 4.00                                                     </td><td>female                                                    </td><td>1                                                         </td><td>1                                                         </td><td> 934                                                      </td><td>Kink, Miss Louise Gretchen                                </td></tr>\n",
       "\t<tr><td> 947                                                      </td><td>3rd                                                       </td><td>22.00                                                     </td><td>female                                                    </td><td>1                                                         </td><td>1                                                         </td><td> 947                                                      </td><td>Landegren, Miss Aurora Adelia                             </td></tr>\n",
       "\t<tr><td>1264                                                      </td><td>3rd                                                       </td><td>18.00                                                     </td><td>female                                                    </td><td>1                                                         </td><td>1                                                         </td><td>1264                                                      </td><td>Turja, Miss Anna Sofia                                    </td></tr>\n",
       "\t<tr><td>1265                                                      </td><td>3rd                                                       </td><td>63.00                                                     </td><td>female                                                    </td><td>1                                                         </td><td>1                                                         </td><td>1265                                                      </td><td>Turkula, Mrs Hedvig                                       </td></tr>\n",
       "\t<tr><td>1294                                                      </td><td>3rd                                                       </td><td>45.00                                                     </td><td>female                                                    </td><td>1                                                         </td><td>1                                                         </td><td>1294                                                      </td><td>Wilkes, Mrs Ellen                                         </td></tr>\n",
       "\t<tr><td>1305                                                      </td><td>3rd                                                       </td><td>15.00                                                     </td><td>female                                                    </td><td>1                                                         </td><td>1                                                         </td><td>1305                                                      </td><td>Yasbeck, Mrs Antoni                                       </td></tr>\n",
       "</tbody>\n",
       "</table>\n"
      ],
      "text/latex": [
       "\\begin{tabular}{r|llllllll}\n",
       " id & PClass & Age & Gender & Survived & GenderCode & id & Name\\\\\n",
       "\\hline\n",
       "\t  1                                                             & 1st                                                            & 29                                                             & female                                                         & 1                                                              & 1                                                              &  1                                                             & Allen, Miss Elisabeth Walton                                  \\\\\n",
       "\t  7                                                             & 1st                                                            & 63                                                             & female                                                         & 1                                                              & 1                                                              &  7                                                             & Andrews, Miss Kornelia Theodosia                              \\\\\n",
       "\t  9                                                             & 1st                                                            & 58                                                             & female                                                         & 1                                                              & 1                                                              &  9                                                             & Appleton, Mrs Edward Dale (Charlotte Lamson)                  \\\\\n",
       "\t 12                                                             & 1st                                                            & 19                                                             & female                                                         & 1                                                              & 1                                                              & 12                                                             & Astor, Mrs John Jacob (Madeleine Talmadge Force)              \\\\\n",
       "\t 16                                                             & 1st                                                            & 50                                                             & female                                                         & 1                                                              & 1                                                              & 16                                                             & Baxter, Mrs James (Helene DeLaudeniere Chaput)                \\\\\n",
       "\t 20                                                             & 1st                                                            & 47                                                             & female                                                         & 1                                                              & 1                                                              & 20                                                             & Beckwith, Mrs Richard Leonard (Sallie Monypeny)               \\\\\n",
       "\t 24                                                             & 1st                                                            & 19                                                             & female                                                         & 1                                                              & 1                                                              & 24                                                             & Bishop, Mrs Dickinson H (Helen Walton)                        \\\\\n",
       "\t 28                                                             & 1st                                                            & 30                                                             & female                                                         & 1                                                              & 1                                                              & 28                                                             & Bonnell, Miss Caroline                                        \\\\\n",
       "\t 29                                                             & 1st                                                            & 58                                                             & female                                                         & 1                                                              & 1                                                              & 29                                                             & Bonnell, Miss Elizabeth                                       \\\\\n",
       "\t 31                                                             & 1st                                                            & 45                                                             & female                                                         & 1                                                              & 1                                                              & 31                                                             & Bowen, Miss Grace Scott                                       \\\\\n",
       "\t 32                                                             & 1st                                                            & 22                                                             & female                                                         & 1                                                              & 1                                                              & 32                                                             & Bowerman, Miss Elsie Edith                                    \\\\\n",
       "\t 37                                                             & 1st                                                            & 44                                                             & female                                                         & 1                                                              & 1                                                              & 37                                                             & \"Brown, Mrs James Joseph (Margaret Molly\"\" Tobin)\"\"\"          \\\\\n",
       "\t 38                                                             & 1st                                                            & 59                                                             & female                                                         & 1                                                              & 1                                                              & 38                                                             & Brown, Mrs John Murray (Caroline Lane Lamson)                 \\\\\n",
       "\t 39                                                             & 1st                                                            & 60                                                             & female                                                         & 1                                                              & 1                                                              & 39                                                             & Bucknell, Mrs William Robert (Emma Eliza Ward)                \\\\\n",
       "\t 42                                                             & 1st                                                            & 53                                                             & female                                                         & 1                                                              & 1                                                              & 42                                                             & Candee, Mrs Edward (Helen Churchill Hungerford)               \\\\\n",
       "\t 43                                                             & 1st                                                            & 58                                                             & female                                                         & 1                                                              & 1                                                              & 43                                                             & Cardeza, Mrs James Warburton Martinez (Charlotte Wardle Drake)\\\\\n",
       "\t 49                                                             & 1st                                                            & 36                                                             & female                                                         & 1                                                              & 1                                                              & 49                                                             & Carter, Mrs William Ernest (Lucile Polk)                      \\\\\n",
       "\t 50                                                             & 1st                                                            & 14                                                             & female                                                         & 1                                                              & 1                                                              & 50                                                             & Carter, Miss Lucile Polk                                      \\\\\n",
       "\t 57                                                             & 1st                                                            & 47                                                             & female                                                         & 1                                                              & 1                                                              & 57                                                             & Chaffee, Mrs Herbert Fuller (Carrie Constance Toogood)        \\\\\n",
       "\t 59                                                             & 1st                                                            & 31                                                             & female                                                         & 1                                                              & 1                                                              & 59                                                             & Chambers, Mrs Norman Campbell (Bertha Griggs)                 \\\\\n",
       "\t 65                                                             & 1st                                                            & 26                                                             & female                                                         & 1                                                              & 1                                                              & 65                                                             & Clark, Mrs Walter Miller (Virginia McDowell)                  \\\\\n",
       "\t 68                                                             & 1st                                                            & 64                                                             & female                                                         & 1                                                              & 1                                                              & 68                                                             & Compton, Mrs Alexander Taylor (Mary Eliza Ingersoll)          \\\\\n",
       "\t 70                                                             & 1st                                                            & 39                                                             & female                                                         & 1                                                              & 1                                                              & 70                                                             & Compton, Miss Sara Rebecca                                    \\\\\n",
       "\t 71                                                             & 1st                                                            & 55                                                             & female                                                         & 1                                                              & 1                                                              & 71                                                             & Cornell, Mrs Robert Clifford (Malvina Helen Lamson)           \\\\\n",
       "\t 74                                                             & 1st                                                            & 69                                                             & female                                                         & 1                                                              & 1                                                              & 74                                                             & Crosby, Mrs Edward Gifford (Catherine Elizabeth Halstead)     \\\\\n",
       "\t 75                                                             & 1st                                                            & 36                                                             & female                                                         & 1                                                              & 1                                                              & 75                                                             & Crosby, Miss Harriet R                                        \\\\\n",
       "\t 77                                                             & 1st                                                            & 38                                                             & female                                                         & 1                                                              & 1                                                              & 77                                                             & Cumings, Mrs John Bradley (Florence Briggs Thayer)            \\\\\n",
       "\t 81                                                             & 1st                                                            & 27                                                             & female                                                         & 1                                                              & 1                                                              & 81                                                             & Davidson, Mrs Thornton (Orian Hays)                           \\\\\n",
       "\t 84                                                             & 1st                                                            & 17                                                             & female                                                         & 1                                                              & 1                                                              & 84                                                             & Dick, Mrs Albert Adrian Vera Gillespie                        \\\\\n",
       "\t 88                                                             & 1st                                                            & 27                                                             & female                                                         & 1                                                              & 1                                                              & 88                                                             & Douglas, Mrs Frederick Charles (Suzette Baxter)               \\\\\n",
       "\t ⋮ & ⋮ & ⋮ & ⋮ & ⋮ & ⋮ & ⋮ & ⋮\\\\\n",
       "\t  743                                                       & 3rd                                                        & 17.00                                                      & female                                                     & 1                                                          & 1                                                          &  743                                                       & Cribb, Miss Laura Alice                                   \\\\\n",
       "\t  749                                                       & 3rd                                                        & 30.00                                                      & female                                                     & 1                                                          & 1                                                          &  749                                                       & Daly, Miss Marcella                                       \\\\\n",
       "\t  762                                                       & 3rd                                                        & 33.00                                                      & female                                                     & 1                                                          & 1                                                          &  762                                                       & Dean, Mrs Bertram (Eva)                                   \\\\\n",
       "\t  764                                                       & 3rd                                                        &  0.17                                                      & female                                                     & 1                                                          & 1                                                          &  764                                                       & Dean, Miss Elizabeth Gladys (Millvena)                    \\\\\n",
       "\t  767                                                       & 3rd                                                        & 36.00                                                      & female                                                     & 1                                                          & 1                                                          &  767                                                       & De Messemaeker, Mrs William Joseph (Anna)                 \\\\\n",
       "\t  772                                                       & 3rd                                                        & 19.00                                                      & female                                                     & 1                                                          & 1                                                          &  772                                                       & Devaney, Miss Margaret                                    \\\\\n",
       "\t  779                                                       & 3rd                                                        & 30.00                                                      & female                                                     & 1                                                          & 1                                                          &  779                                                       & Dowdell, Miss Elizabeth                                   \\\\\n",
       "\t  781                                                       & 3rd                                                        & 23.00                                                      & female                                                     & 1                                                          & 1                                                          &  781                                                       & Drapkin, Miss Jennie                                      \\\\\n",
       "\t  783                                                       & 3rd                                                        & 24.00                                                      & female                                                     & 1                                                          & 1                                                          &  783                                                       & Driscoll, Miss Bridget                                    \\\\\n",
       "\t  786                                                       & 3rd                                                        & 22.00                                                      & female                                                     & 1                                                          & 1                                                          &  786                                                       & Dyker, Mrs Adolf Fredrik (Anna Elizabeth Judith Andersson)\\\\\n",
       "\t  795                                                       & 3rd                                                        &  5.00                                                      & female                                                     & 1                                                          & 1                                                          &  795                                                       & Emanuel, Miss Virginia Ethel                              \\\\\n",
       "\t  816                                                       & 3rd                                                        & 38.00                                                      & female                                                     & 1                                                          & 1                                                          &  816                                                       & Georges, Mrs Shahini Weappi                               \\\\\n",
       "\t  818                                                       & 3rd                                                        & 16.00                                                      & female                                                     & 1                                                          & 1                                                          &  818                                                       & Gilnagh, Miss Katie                                       \\\\\n",
       "\t  845                                                       & 3rd                                                        & 24.00                                                      & female                                                     & 1                                                          & 1                                                          &  845                                                       & Hakkarainen, Mrs Pekko Pietari                            \\\\\n",
       "\t  848                                                       & 3rd                                                        & 45.00                                                      & female                                                     & 1                                                          & 1                                                          &  848                                                       & Hansen, Mrs Claus Peter                                   \\\\\n",
       "\t  859                                                       & 3rd                                                        & 26.00                                                      & female                                                     & 1                                                          & 1                                                          &  859                                                       & Heikkinen, Miss Laina                                     \\\\\n",
       "\t  861                                                       & 3rd                                                        & 22.00                                                      & female                                                     & 1                                                          & 1                                                          &  861                                                       & Hellstrom, Hilda Maria                                    \\\\\n",
       "\t  866                                                       & 3rd                                                        & 22.00                                                      & female                                                     & 1                                                          & 1                                                          &  866                                                       & Hirvonen, Mrs Alexander                                   \\\\\n",
       "\t  870                                                       & 3rd                                                        & 27.00                                                      & female                                                     & 1                                                          & 1                                                          &  870                                                       & Honkanen, Miss Eluna                                      \\\\\n",
       "\t  881                                                       & 3rd                                                        & 19.00                                                      & female                                                     & 1                                                          & 1                                                          &  881                                                       & Jensen, Miss Carla Christine                              \\\\\n",
       "\t  894                                                       & 3rd                                                        &  1.00                                                      & female                                                     & 1                                                          & 1                                                          &  894                                                       & Johnson, Miss Eleanor Ileen                               \\\\\n",
       "\t  915                                                       & 3rd                                                        &  4.00                                                      & female                                                     & 1                                                          & 1                                                          &  915                                                       & Karun, Miss Anna Mary                                     \\\\\n",
       "\t  921                                                       & 3rd                                                        & 21.00                                                      & female                                                     & 1                                                          & 1                                                          &  921                                                       & Kelly, Miss Anna Kate                                     \\\\\n",
       "\t  924                                                       & 3rd                                                        & 21.00                                                      & female                                                     & 1                                                          & 1                                                          &  924                                                       & Kelly, Miss Mary                                          \\\\\n",
       "\t  934                                                       & 3rd                                                        &  4.00                                                      & female                                                     & 1                                                          & 1                                                          &  934                                                       & Kink, Miss Louise Gretchen                                \\\\\n",
       "\t  947                                                       & 3rd                                                        & 22.00                                                      & female                                                     & 1                                                          & 1                                                          &  947                                                       & Landegren, Miss Aurora Adelia                             \\\\\n",
       "\t 1264                                                       & 3rd                                                        & 18.00                                                      & female                                                     & 1                                                          & 1                                                          & 1264                                                       & Turja, Miss Anna Sofia                                    \\\\\n",
       "\t 1265                                                       & 3rd                                                        & 63.00                                                      & female                                                     & 1                                                          & 1                                                          & 1265                                                       & Turkula, Mrs Hedvig                                       \\\\\n",
       "\t 1294                                                       & 3rd                                                        & 45.00                                                      & female                                                     & 1                                                          & 1                                                          & 1294                                                       & Wilkes, Mrs Ellen                                         \\\\\n",
       "\t 1305                                                       & 3rd                                                        & 15.00                                                      & female                                                     & 1                                                          & 1                                                          & 1305                                                       & Yasbeck, Mrs Antoni                                       \\\\\n",
       "\\end{tabular}\n"
      ],
      "text/markdown": [
       "\n",
       "id | PClass | Age | Gender | Survived | GenderCode | id | Name | \n",
       "|---|---|---|---|---|---|---|---|---|---|---|---|---|---|---|---|---|---|---|---|---|---|---|---|---|---|---|---|---|---|---|---|---|---|---|---|---|---|---|---|---|---|---|---|---|---|---|---|---|---|---|---|---|---|---|---|---|---|---|---|---|\n",
       "|  1                                                             | 1st                                                            | 29                                                             | female                                                         | 1                                                              | 1                                                              |  1                                                             | Allen, Miss Elisabeth Walton                                   | \n",
       "|  7                                                             | 1st                                                            | 63                                                             | female                                                         | 1                                                              | 1                                                              |  7                                                             | Andrews, Miss Kornelia Theodosia                               | \n",
       "|  9                                                             | 1st                                                            | 58                                                             | female                                                         | 1                                                              | 1                                                              |  9                                                             | Appleton, Mrs Edward Dale (Charlotte Lamson)                   | \n",
       "| 12                                                             | 1st                                                            | 19                                                             | female                                                         | 1                                                              | 1                                                              | 12                                                             | Astor, Mrs John Jacob (Madeleine Talmadge Force)               | \n",
       "| 16                                                             | 1st                                                            | 50                                                             | female                                                         | 1                                                              | 1                                                              | 16                                                             | Baxter, Mrs James (Helene DeLaudeniere Chaput)                 | \n",
       "| 20                                                             | 1st                                                            | 47                                                             | female                                                         | 1                                                              | 1                                                              | 20                                                             | Beckwith, Mrs Richard Leonard (Sallie Monypeny)                | \n",
       "| 24                                                             | 1st                                                            | 19                                                             | female                                                         | 1                                                              | 1                                                              | 24                                                             | Bishop, Mrs Dickinson H (Helen Walton)                         | \n",
       "| 28                                                             | 1st                                                            | 30                                                             | female                                                         | 1                                                              | 1                                                              | 28                                                             | Bonnell, Miss Caroline                                         | \n",
       "| 29                                                             | 1st                                                            | 58                                                             | female                                                         | 1                                                              | 1                                                              | 29                                                             | Bonnell, Miss Elizabeth                                        | \n",
       "| 31                                                             | 1st                                                            | 45                                                             | female                                                         | 1                                                              | 1                                                              | 31                                                             | Bowen, Miss Grace Scott                                        | \n",
       "| 32                                                             | 1st                                                            | 22                                                             | female                                                         | 1                                                              | 1                                                              | 32                                                             | Bowerman, Miss Elsie Edith                                     | \n",
       "| 37                                                             | 1st                                                            | 44                                                             | female                                                         | 1                                                              | 1                                                              | 37                                                             | \"Brown, Mrs James Joseph (Margaret Molly\"\" Tobin)\"\"\"           | \n",
       "| 38                                                             | 1st                                                            | 59                                                             | female                                                         | 1                                                              | 1                                                              | 38                                                             | Brown, Mrs John Murray (Caroline Lane Lamson)                  | \n",
       "| 39                                                             | 1st                                                            | 60                                                             | female                                                         | 1                                                              | 1                                                              | 39                                                             | Bucknell, Mrs William Robert (Emma Eliza Ward)                 | \n",
       "| 42                                                             | 1st                                                            | 53                                                             | female                                                         | 1                                                              | 1                                                              | 42                                                             | Candee, Mrs Edward (Helen Churchill Hungerford)                | \n",
       "| 43                                                             | 1st                                                            | 58                                                             | female                                                         | 1                                                              | 1                                                              | 43                                                             | Cardeza, Mrs James Warburton Martinez (Charlotte Wardle Drake) | \n",
       "| 49                                                             | 1st                                                            | 36                                                             | female                                                         | 1                                                              | 1                                                              | 49                                                             | Carter, Mrs William Ernest (Lucile Polk)                       | \n",
       "| 50                                                             | 1st                                                            | 14                                                             | female                                                         | 1                                                              | 1                                                              | 50                                                             | Carter, Miss Lucile Polk                                       | \n",
       "| 57                                                             | 1st                                                            | 47                                                             | female                                                         | 1                                                              | 1                                                              | 57                                                             | Chaffee, Mrs Herbert Fuller (Carrie Constance Toogood)         | \n",
       "| 59                                                             | 1st                                                            | 31                                                             | female                                                         | 1                                                              | 1                                                              | 59                                                             | Chambers, Mrs Norman Campbell (Bertha Griggs)                  | \n",
       "| 65                                                             | 1st                                                            | 26                                                             | female                                                         | 1                                                              | 1                                                              | 65                                                             | Clark, Mrs Walter Miller (Virginia McDowell)                   | \n",
       "| 68                                                             | 1st                                                            | 64                                                             | female                                                         | 1                                                              | 1                                                              | 68                                                             | Compton, Mrs Alexander Taylor (Mary Eliza Ingersoll)           | \n",
       "| 70                                                             | 1st                                                            | 39                                                             | female                                                         | 1                                                              | 1                                                              | 70                                                             | Compton, Miss Sara Rebecca                                     | \n",
       "| 71                                                             | 1st                                                            | 55                                                             | female                                                         | 1                                                              | 1                                                              | 71                                                             | Cornell, Mrs Robert Clifford (Malvina Helen Lamson)            | \n",
       "| 74                                                             | 1st                                                            | 69                                                             | female                                                         | 1                                                              | 1                                                              | 74                                                             | Crosby, Mrs Edward Gifford (Catherine Elizabeth Halstead)      | \n",
       "| 75                                                             | 1st                                                            | 36                                                             | female                                                         | 1                                                              | 1                                                              | 75                                                             | Crosby, Miss Harriet R                                         | \n",
       "| 77                                                             | 1st                                                            | 38                                                             | female                                                         | 1                                                              | 1                                                              | 77                                                             | Cumings, Mrs John Bradley (Florence Briggs Thayer)             | \n",
       "| 81                                                             | 1st                                                            | 27                                                             | female                                                         | 1                                                              | 1                                                              | 81                                                             | Davidson, Mrs Thornton (Orian Hays)                            | \n",
       "| 84                                                             | 1st                                                            | 17                                                             | female                                                         | 1                                                              | 1                                                              | 84                                                             | Dick, Mrs Albert Adrian Vera Gillespie                         | \n",
       "| 88                                                             | 1st                                                            | 27                                                             | female                                                         | 1                                                              | 1                                                              | 88                                                             | Douglas, Mrs Frederick Charles (Suzette Baxter)                | \n",
       "| ⋮ | ⋮ | ⋮ | ⋮ | ⋮ | ⋮ | ⋮ | ⋮ | \n",
       "|  743                                                       | 3rd                                                        | 17.00                                                      | female                                                     | 1                                                          | 1                                                          |  743                                                       | Cribb, Miss Laura Alice                                    | \n",
       "|  749                                                       | 3rd                                                        | 30.00                                                      | female                                                     | 1                                                          | 1                                                          |  749                                                       | Daly, Miss Marcella                                        | \n",
       "|  762                                                       | 3rd                                                        | 33.00                                                      | female                                                     | 1                                                          | 1                                                          |  762                                                       | Dean, Mrs Bertram (Eva)                                    | \n",
       "|  764                                                       | 3rd                                                        |  0.17                                                      | female                                                     | 1                                                          | 1                                                          |  764                                                       | Dean, Miss Elizabeth Gladys (Millvena)                     | \n",
       "|  767                                                       | 3rd                                                        | 36.00                                                      | female                                                     | 1                                                          | 1                                                          |  767                                                       | De Messemaeker, Mrs William Joseph (Anna)                  | \n",
       "|  772                                                       | 3rd                                                        | 19.00                                                      | female                                                     | 1                                                          | 1                                                          |  772                                                       | Devaney, Miss Margaret                                     | \n",
       "|  779                                                       | 3rd                                                        | 30.00                                                      | female                                                     | 1                                                          | 1                                                          |  779                                                       | Dowdell, Miss Elizabeth                                    | \n",
       "|  781                                                       | 3rd                                                        | 23.00                                                      | female                                                     | 1                                                          | 1                                                          |  781                                                       | Drapkin, Miss Jennie                                       | \n",
       "|  783                                                       | 3rd                                                        | 24.00                                                      | female                                                     | 1                                                          | 1                                                          |  783                                                       | Driscoll, Miss Bridget                                     | \n",
       "|  786                                                       | 3rd                                                        | 22.00                                                      | female                                                     | 1                                                          | 1                                                          |  786                                                       | Dyker, Mrs Adolf Fredrik (Anna Elizabeth Judith Andersson) | \n",
       "|  795                                                       | 3rd                                                        |  5.00                                                      | female                                                     | 1                                                          | 1                                                          |  795                                                       | Emanuel, Miss Virginia Ethel                               | \n",
       "|  816                                                       | 3rd                                                        | 38.00                                                      | female                                                     | 1                                                          | 1                                                          |  816                                                       | Georges, Mrs Shahini Weappi                                | \n",
       "|  818                                                       | 3rd                                                        | 16.00                                                      | female                                                     | 1                                                          | 1                                                          |  818                                                       | Gilnagh, Miss Katie                                        | \n",
       "|  845                                                       | 3rd                                                        | 24.00                                                      | female                                                     | 1                                                          | 1                                                          |  845                                                       | Hakkarainen, Mrs Pekko Pietari                             | \n",
       "|  848                                                       | 3rd                                                        | 45.00                                                      | female                                                     | 1                                                          | 1                                                          |  848                                                       | Hansen, Mrs Claus Peter                                    | \n",
       "|  859                                                       | 3rd                                                        | 26.00                                                      | female                                                     | 1                                                          | 1                                                          |  859                                                       | Heikkinen, Miss Laina                                      | \n",
       "|  861                                                       | 3rd                                                        | 22.00                                                      | female                                                     | 1                                                          | 1                                                          |  861                                                       | Hellstrom, Hilda Maria                                     | \n",
       "|  866                                                       | 3rd                                                        | 22.00                                                      | female                                                     | 1                                                          | 1                                                          |  866                                                       | Hirvonen, Mrs Alexander                                    | \n",
       "|  870                                                       | 3rd                                                        | 27.00                                                      | female                                                     | 1                                                          | 1                                                          |  870                                                       | Honkanen, Miss Eluna                                       | \n",
       "|  881                                                       | 3rd                                                        | 19.00                                                      | female                                                     | 1                                                          | 1                                                          |  881                                                       | Jensen, Miss Carla Christine                               | \n",
       "|  894                                                       | 3rd                                                        |  1.00                                                      | female                                                     | 1                                                          | 1                                                          |  894                                                       | Johnson, Miss Eleanor Ileen                                | \n",
       "|  915                                                       | 3rd                                                        |  4.00                                                      | female                                                     | 1                                                          | 1                                                          |  915                                                       | Karun, Miss Anna Mary                                      | \n",
       "|  921                                                       | 3rd                                                        | 21.00                                                      | female                                                     | 1                                                          | 1                                                          |  921                                                       | Kelly, Miss Anna Kate                                      | \n",
       "|  924                                                       | 3rd                                                        | 21.00                                                      | female                                                     | 1                                                          | 1                                                          |  924                                                       | Kelly, Miss Mary                                           | \n",
       "|  934                                                       | 3rd                                                        |  4.00                                                      | female                                                     | 1                                                          | 1                                                          |  934                                                       | Kink, Miss Louise Gretchen                                 | \n",
       "|  947                                                       | 3rd                                                        | 22.00                                                      | female                                                     | 1                                                          | 1                                                          |  947                                                       | Landegren, Miss Aurora Adelia                              | \n",
       "| 1264                                                       | 3rd                                                        | 18.00                                                      | female                                                     | 1                                                          | 1                                                          | 1264                                                       | Turja, Miss Anna Sofia                                     | \n",
       "| 1265                                                       | 3rd                                                        | 63.00                                                      | female                                                     | 1                                                          | 1                                                          | 1265                                                       | Turkula, Mrs Hedvig                                        | \n",
       "| 1294                                                       | 3rd                                                        | 45.00                                                      | female                                                     | 1                                                          | 1                                                          | 1294                                                       | Wilkes, Mrs Ellen                                          | \n",
       "| 1305                                                       | 3rd                                                        | 15.00                                                      | female                                                     | 1                                                          | 1                                                          | 1305                                                       | Yasbeck, Mrs Antoni                                        | \n",
       "\n",
       "\n"
      ],
      "text/plain": [
       "    id   PClass Age   Gender Survived GenderCode id  \n",
       "1    1   1st    29    female 1        1           1  \n",
       "2    7   1st    63    female 1        1           7  \n",
       "3    9   1st    58    female 1        1           9  \n",
       "4   12   1st    19    female 1        1          12  \n",
       "5   16   1st    50    female 1        1          16  \n",
       "6   20   1st    47    female 1        1          20  \n",
       "7   24   1st    19    female 1        1          24  \n",
       "8   28   1st    30    female 1        1          28  \n",
       "9   29   1st    58    female 1        1          29  \n",
       "10  31   1st    45    female 1        1          31  \n",
       "11  32   1st    22    female 1        1          32  \n",
       "12  37   1st    44    female 1        1          37  \n",
       "13  38   1st    59    female 1        1          38  \n",
       "14  39   1st    60    female 1        1          39  \n",
       "15  42   1st    53    female 1        1          42  \n",
       "16  43   1st    58    female 1        1          43  \n",
       "17  49   1st    36    female 1        1          49  \n",
       "18  50   1st    14    female 1        1          50  \n",
       "19  57   1st    47    female 1        1          57  \n",
       "20  59   1st    31    female 1        1          59  \n",
       "21  65   1st    26    female 1        1          65  \n",
       "22  68   1st    64    female 1        1          68  \n",
       "23  70   1st    39    female 1        1          70  \n",
       "24  71   1st    55    female 1        1          71  \n",
       "25  74   1st    69    female 1        1          74  \n",
       "26  75   1st    36    female 1        1          75  \n",
       "27  77   1st    38    female 1        1          77  \n",
       "28  81   1st    27    female 1        1          81  \n",
       "29  84   1st    17    female 1        1          84  \n",
       "30  88   1st    27    female 1        1          88  \n",
       "⋮   ⋮    ⋮      ⋮     ⋮      ⋮        ⋮          ⋮   \n",
       "188  743 3rd    17.00 female 1        1           743\n",
       "189  749 3rd    30.00 female 1        1           749\n",
       "190  762 3rd    33.00 female 1        1           762\n",
       "191  764 3rd     0.17 female 1        1           764\n",
       "192  767 3rd    36.00 female 1        1           767\n",
       "193  772 3rd    19.00 female 1        1           772\n",
       "194  779 3rd    30.00 female 1        1           779\n",
       "195  781 3rd    23.00 female 1        1           781\n",
       "196  783 3rd    24.00 female 1        1           783\n",
       "197  786 3rd    22.00 female 1        1           786\n",
       "198  795 3rd     5.00 female 1        1           795\n",
       "199  816 3rd    38.00 female 1        1           816\n",
       "200  818 3rd    16.00 female 1        1           818\n",
       "201  845 3rd    24.00 female 1        1           845\n",
       "202  848 3rd    45.00 female 1        1           848\n",
       "203  859 3rd    26.00 female 1        1           859\n",
       "204  861 3rd    22.00 female 1        1           861\n",
       "205  866 3rd    22.00 female 1        1           866\n",
       "206  870 3rd    27.00 female 1        1           870\n",
       "207  881 3rd    19.00 female 1        1           881\n",
       "208  894 3rd     1.00 female 1        1           894\n",
       "209  915 3rd     4.00 female 1        1           915\n",
       "210  921 3rd    21.00 female 1        1           921\n",
       "211  924 3rd    21.00 female 1        1           924\n",
       "212  934 3rd     4.00 female 1        1           934\n",
       "213  947 3rd    22.00 female 1        1           947\n",
       "214 1264 3rd    18.00 female 1        1          1264\n",
       "215 1265 3rd    63.00 female 1        1          1265\n",
       "216 1294 3rd    45.00 female 1        1          1294\n",
       "217 1305 3rd    15.00 female 1        1          1305\n",
       "    Name                                                          \n",
       "1   Allen, Miss Elisabeth Walton                                  \n",
       "2   Andrews, Miss Kornelia Theodosia                              \n",
       "3   Appleton, Mrs Edward Dale (Charlotte Lamson)                  \n",
       "4   Astor, Mrs John Jacob (Madeleine Talmadge Force)              \n",
       "5   Baxter, Mrs James (Helene DeLaudeniere Chaput)                \n",
       "6   Beckwith, Mrs Richard Leonard (Sallie Monypeny)               \n",
       "7   Bishop, Mrs Dickinson H (Helen Walton)                        \n",
       "8   Bonnell, Miss Caroline                                        \n",
       "9   Bonnell, Miss Elizabeth                                       \n",
       "10  Bowen, Miss Grace Scott                                       \n",
       "11  Bowerman, Miss Elsie Edith                                    \n",
       "12  \"Brown, Mrs James Joseph (Margaret Molly\"\" Tobin)\"\"\"          \n",
       "13  Brown, Mrs John Murray (Caroline Lane Lamson)                 \n",
       "14  Bucknell, Mrs William Robert (Emma Eliza Ward)                \n",
       "15  Candee, Mrs Edward (Helen Churchill Hungerford)               \n",
       "16  Cardeza, Mrs James Warburton Martinez (Charlotte Wardle Drake)\n",
       "17  Carter, Mrs William Ernest (Lucile Polk)                      \n",
       "18  Carter, Miss Lucile Polk                                      \n",
       "19  Chaffee, Mrs Herbert Fuller (Carrie Constance Toogood)        \n",
       "20  Chambers, Mrs Norman Campbell (Bertha Griggs)                 \n",
       "21  Clark, Mrs Walter Miller (Virginia McDowell)                  \n",
       "22  Compton, Mrs Alexander Taylor (Mary Eliza Ingersoll)          \n",
       "23  Compton, Miss Sara Rebecca                                    \n",
       "24  Cornell, Mrs Robert Clifford (Malvina Helen Lamson)           \n",
       "25  Crosby, Mrs Edward Gifford (Catherine Elizabeth Halstead)     \n",
       "26  Crosby, Miss Harriet R                                        \n",
       "27  Cumings, Mrs John Bradley (Florence Briggs Thayer)            \n",
       "28  Davidson, Mrs Thornton (Orian Hays)                           \n",
       "29  Dick, Mrs Albert Adrian Vera Gillespie                        \n",
       "30  Douglas, Mrs Frederick Charles (Suzette Baxter)               \n",
       "⋮   ⋮                                                             \n",
       "188 Cribb, Miss Laura Alice                                       \n",
       "189 Daly, Miss Marcella                                           \n",
       "190 Dean, Mrs Bertram (Eva)                                       \n",
       "191 Dean, Miss Elizabeth Gladys (Millvena)                        \n",
       "192 De Messemaeker, Mrs William Joseph (Anna)                     \n",
       "193 Devaney, Miss Margaret                                        \n",
       "194 Dowdell, Miss Elizabeth                                       \n",
       "195 Drapkin, Miss Jennie                                          \n",
       "196 Driscoll, Miss Bridget                                        \n",
       "197 Dyker, Mrs Adolf Fredrik (Anna Elizabeth Judith Andersson)    \n",
       "198 Emanuel, Miss Virginia Ethel                                  \n",
       "199 Georges, Mrs Shahini Weappi                                   \n",
       "200 Gilnagh, Miss Katie                                           \n",
       "201 Hakkarainen, Mrs Pekko Pietari                                \n",
       "202 Hansen, Mrs Claus Peter                                       \n",
       "203 Heikkinen, Miss Laina                                         \n",
       "204 Hellstrom, Hilda Maria                                        \n",
       "205 Hirvonen, Mrs Alexander                                       \n",
       "206 Honkanen, Miss Eluna                                          \n",
       "207 Jensen, Miss Carla Christine                                  \n",
       "208 Johnson, Miss Eleanor Ileen                                   \n",
       "209 Karun, Miss Anna Mary                                         \n",
       "210 Kelly, Miss Anna Kate                                         \n",
       "211 Kelly, Miss Mary                                              \n",
       "212 Kink, Miss Louise Gretchen                                    \n",
       "213 Landegren, Miss Aurora Adelia                                 \n",
       "214 Turja, Miss Anna Sofia                                        \n",
       "215 Turkula, Mrs Hedvig                                           \n",
       "216 Wilkes, Mrs Ellen                                             \n",
       "217 Yasbeck, Mrs Antoni                                           "
      ]
     },
     "metadata": {},
     "output_type": "display_data"
    }
   ],
   "source": [
    "collect(females_with_names)"
   ]
  },
  {
   "cell_type": "code",
   "execution_count": null,
   "metadata": {},
   "outputs": [],
   "source": []
  }
 ],
 "metadata": {
  "kernelspec": {
   "display_name": "R",
   "language": "R",
   "name": "ir"
  },
  "language_info": {
   "codemirror_mode": "r",
   "file_extension": ".r",
   "mimetype": "text/x-r-source",
   "name": "R",
   "pygments_lexer": "r",
   "version": "3.4.1"
  },
  "toc": {
   "base_numbering": 1,
   "nav_menu": {},
   "number_sections": true,
   "sideBar": true,
   "skip_h1_title": false,
   "title_cell": "Table of Contents",
   "title_sidebar": "Contents",
   "toc_cell": false,
   "toc_position": {},
   "toc_section_display": true,
   "toc_window_display": false
  }
 },
 "nbformat": 4,
 "nbformat_minor": 2
}
