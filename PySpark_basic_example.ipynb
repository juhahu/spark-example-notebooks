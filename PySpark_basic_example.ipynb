{
 "cells": [
  {
   "cell_type": "markdown",
   "metadata": {},
   "source": [
    "# PySpark example\n",
    "This notebook demonstarates basic use of Apache Spark using Python"
   ]
  },
  {
   "cell_type": "code",
   "execution_count": 1,
   "metadata": {
    "ExecuteTime": {
     "end_time": "2019-10-10T11:48:34.747984Z",
     "start_time": "2019-10-10T11:48:34.244214Z"
    }
   },
   "outputs": [],
   "source": [
    "# Import SparkSession\n",
    "from pyspark.sql import SparkSession"
   ]
  },
  {
   "cell_type": "code",
   "execution_count": 2,
   "metadata": {
    "ExecuteTime": {
     "end_time": "2019-10-10T11:48:45.787901Z",
     "start_time": "2019-10-10T11:48:34.752309Z"
    }
   },
   "outputs": [],
   "source": [
    "# Initialize Spark session\n",
    "spark = SparkSession \\\n",
    "    .builder \\\n",
    "    .appName(\"PySpark example\") \\\n",
    "    .getOrCreate()"
   ]
  },
  {
   "cell_type": "code",
   "execution_count": 3,
   "metadata": {
    "ExecuteTime": {
     "end_time": "2019-10-10T11:49:04.699266Z",
     "start_time": "2019-10-10T11:48:45.793352Z"
    }
   },
   "outputs": [],
   "source": [
    "# Load Titanic dataset to dataframes\n",
    "titanic_data_df = spark.read.csv(\"data/Titanic_data.csv\",header=True,inferSchema=True)"
   ]
  },
  {
   "cell_type": "markdown",
   "metadata": {},
   "source": [
    "---\n",
    "Data exploring"
   ]
  },
  {
   "cell_type": "code",
   "execution_count": 4,
   "metadata": {
    "ExecuteTime": {
     "end_time": "2019-10-10T11:49:04.911523Z",
     "start_time": "2019-10-10T11:49:04.704199Z"
    }
   },
   "outputs": [
    {
     "data": {
      "text/plain": [
       "DataFrame[id: int, PClass: string, Age: double, Gender: string, Survived: int, GenderCode: int]"
      ]
     },
     "execution_count": 4,
     "metadata": {},
     "output_type": "execute_result"
    }
   ],
   "source": [
    "# Print datatype\n",
    "titanic_data_df"
   ]
  },
  {
   "cell_type": "code",
   "execution_count": 5,
   "metadata": {
    "ExecuteTime": {
     "end_time": "2019-10-10T11:49:04.924214Z",
     "start_time": "2019-10-10T11:49:04.915262Z"
    }
   },
   "outputs": [
    {
     "name": "stdout",
     "output_type": "stream",
     "text": [
      "root\n",
      " |-- id: integer (nullable = true)\n",
      " |-- PClass: string (nullable = true)\n",
      " |-- Age: double (nullable = true)\n",
      " |-- Gender: string (nullable = true)\n",
      " |-- Survived: integer (nullable = true)\n",
      " |-- GenderCode: integer (nullable = true)\n",
      "\n"
     ]
    }
   ],
   "source": [
    "titanic_data_df.printSchema()"
   ]
  },
  {
   "cell_type": "code",
   "execution_count": 6,
   "metadata": {
    "ExecuteTime": {
     "end_time": "2019-10-10T11:49:08.981864Z",
     "start_time": "2019-10-10T11:49:04.927804Z"
    },
    "scrolled": true
   },
   "outputs": [
    {
     "name": "stdout",
     "output_type": "stream",
     "text": [
      "+-------+-----------------+------+------------------+------+-------------------+-------------------+\n",
      "|summary|               id|PClass|               Age|Gender|           Survived|         GenderCode|\n",
      "+-------+-----------------+------+------------------+------+-------------------+-------------------+\n",
      "|  count|             1313|  1313|              1313|  1313|               1313|               1313|\n",
      "|   mean|            657.0|  null|17.502574257425742|  null| 0.3427265803503427| 0.3518659558263519|\n",
      "| stddev|379.1747618183468|  null| 18.51694476332819|  null|0.47480181908910607|0.47773437008438874|\n",
      "|    min|                1|     *|               0.0|female|                  0|                  0|\n",
      "|    max|             1313|   3rd|              71.0|  male|                  1|                  1|\n",
      "+-------+-----------------+------+------------------+------+-------------------+-------------------+\n",
      "\n"
     ]
    }
   ],
   "source": [
    "# Describe the data\n",
    "titanic_data_df.describe().show()"
   ]
  },
  {
   "cell_type": "code",
   "execution_count": 7,
   "metadata": {
    "ExecuteTime": {
     "end_time": "2019-10-10T11:49:09.885084Z",
     "start_time": "2019-10-10T11:49:08.985539Z"
    }
   },
   "outputs": [
    {
     "data": {
      "text/plain": [
       "1313"
      ]
     },
     "execution_count": 7,
     "metadata": {},
     "output_type": "execute_result"
    }
   ],
   "source": [
    "# Count lines\n",
    "titanic_data_df.count()"
   ]
  },
  {
   "cell_type": "code",
   "execution_count": 8,
   "metadata": {
    "ExecuteTime": {
     "end_time": "2019-10-10T11:49:10.830949Z",
     "start_time": "2019-10-10T11:49:09.889996Z"
    },
    "scrolled": true
   },
   "outputs": [
    {
     "name": "stdout",
     "output_type": "stream",
     "text": [
      "+---+------+----+------+--------+----------+\n",
      "| id|PClass| Age|Gender|Survived|GenderCode|\n",
      "+---+------+----+------+--------+----------+\n",
      "|  1|   1st|29.0|female|       1|         1|\n",
      "|  2|   1st| 2.0|female|       0|         1|\n",
      "|  3|   1st|30.0|  male|       0|         0|\n",
      "|  4|   1st|25.0|female|       0|         1|\n",
      "|  5|   1st|0.92|  male|       1|         0|\n",
      "|  6|   1st|47.0|  male|       1|         0|\n",
      "|  7|   1st|63.0|female|       1|         1|\n",
      "|  8|   1st|39.0|  male|       0|         0|\n",
      "|  9|   1st|58.0|female|       1|         1|\n",
      "| 10|   1st|71.0|  male|       0|         0|\n",
      "+---+------+----+------+--------+----------+\n",
      "only showing top 10 rows\n",
      "\n"
     ]
    }
   ],
   "source": [
    "# Show first 10 lines\n",
    "titanic_data_df.show(10)"
   ]
  },
  {
   "cell_type": "code",
   "execution_count": 9,
   "metadata": {
    "ExecuteTime": {
     "end_time": "2019-10-10T11:49:15.912403Z",
     "start_time": "2019-10-10T11:49:10.877885Z"
    }
   },
   "outputs": [
    {
     "name": "stdout",
     "output_type": "stream",
     "text": [
      "+--------+-----+\n",
      "|Survived|count|\n",
      "+--------+-----+\n",
      "|       1|  450|\n",
      "|       0|  863|\n",
      "+--------+-----+\n",
      "\n"
     ]
    }
   ],
   "source": [
    "# Check the count of survivors and victims\n",
    "titanic_data_df.groupby(\"Survived\").count().show()"
   ]
  },
  {
   "cell_type": "markdown",
   "metadata": {},
   "source": [
    "---\n",
    "Create temporary view to use SQL language"
   ]
  },
  {
   "cell_type": "code",
   "execution_count": 10,
   "metadata": {
    "ExecuteTime": {
     "end_time": "2019-10-10T11:49:16.807302Z",
     "start_time": "2019-10-10T11:49:15.978641Z"
    }
   },
   "outputs": [],
   "source": [
    "titanic_data_df.createOrReplaceTempView(\"data\")"
   ]
  },
  {
   "cell_type": "code",
   "execution_count": 11,
   "metadata": {
    "ExecuteTime": {
     "end_time": "2019-10-10T11:49:22.079954Z",
     "start_time": "2019-10-10T11:49:16.811142Z"
    }
   },
   "outputs": [
    {
     "name": "stdout",
     "output_type": "stream",
     "text": [
      "+------+\n",
      "|PClass|\n",
      "+------+\n",
      "|   2nd|\n",
      "|     *|\n",
      "|   1st|\n",
      "|   3rd|\n",
      "+------+\n",
      "\n"
     ]
    }
   ],
   "source": [
    "# Check different passenger classes\n",
    "spark.sql(\"SELECT DISTINCT PClass FROM data\").show()"
   ]
  },
  {
   "cell_type": "code",
   "execution_count": 12,
   "metadata": {
    "ExecuteTime": {
     "end_time": "2019-10-10T11:49:23.529102Z",
     "start_time": "2019-10-10T11:49:22.083729Z"
    }
   },
   "outputs": [
    {
     "name": "stdout",
     "output_type": "stream",
     "text": [
      "+---+------+---+------+--------+----------+\n",
      "| id|PClass|Age|Gender|Survived|GenderCode|\n",
      "+---+------+---+------+--------+----------+\n",
      "|457|     *|0.0|  male|       0|         0|\n",
      "+---+------+---+------+--------+----------+\n",
      "\n"
     ]
    }
   ],
   "source": [
    "# What is that * class?\n",
    "spark.sql(\"SELECT * FROM data WHERE PClass = '*'\").show()"
   ]
  },
  {
   "cell_type": "code",
   "execution_count": 13,
   "metadata": {
    "ExecuteTime": {
     "end_time": "2019-10-10T11:49:26.980433Z",
     "start_time": "2019-10-10T11:49:23.532940Z"
    },
    "scrolled": true
   },
   "outputs": [
    {
     "name": "stdout",
     "output_type": "stream",
     "text": [
      "+------+----------+\n",
      "|PClass|Passengers|\n",
      "+------+----------+\n",
      "|   2nd|       279|\n",
      "|   1st|       322|\n",
      "|   3rd|       711|\n",
      "+------+----------+\n",
      "\n"
     ]
    }
   ],
   "source": [
    "# Removing that * class and saving counts per classes to dataframe\n",
    "class_counts = spark.sql(\"SELECT PClass, COUNT(PClass) AS Passengers FROM data WHERE PClass != '*' GROUP BY PClass\")\n",
    "class_counts.show()"
   ]
  },
  {
   "cell_type": "code",
   "execution_count": 14,
   "metadata": {
    "ExecuteTime": {
     "end_time": "2019-10-10T11:49:29.881434Z",
     "start_time": "2019-10-10T11:49:26.984407Z"
    }
   },
   "outputs": [
    {
     "name": "stdout",
     "output_type": "stream",
     "text": [
      "+------+---------+\n",
      "|PClass|Survivors|\n",
      "+------+---------+\n",
      "|   2nd|      119|\n",
      "|   1st|      193|\n",
      "|   3rd|      138|\n",
      "+------+---------+\n",
      "\n"
     ]
    }
   ],
   "source": [
    "survivors_per_class = spark.sql(\"SELECT PClass, COUNT(PClass) AS Survivors FROM data WHERE PClass != '*' AND Survived = 1 GROUP BY PClass\")\n",
    "survivors_per_class.show()"
   ]
  },
  {
   "cell_type": "code",
   "execution_count": 15,
   "metadata": {
    "ExecuteTime": {
     "end_time": "2019-10-10T11:49:35.393955Z",
     "start_time": "2019-10-10T11:49:29.884881Z"
    }
   },
   "outputs": [
    {
     "name": "stdout",
     "output_type": "stream",
     "text": [
      "+------+----------+---------+\n",
      "|PClass|Passengers|Survivors|\n",
      "+------+----------+---------+\n",
      "|   2nd|       279|      119|\n",
      "|   1st|       322|      193|\n",
      "|   3rd|       711|      138|\n",
      "+------+----------+---------+\n",
      "\n"
     ]
    }
   ],
   "source": [
    "joined_counts = class_counts.join(survivors_per_class, 'PClass')\n",
    "joined_counts.show()"
   ]
  },
  {
   "cell_type": "code",
   "execution_count": 16,
   "metadata": {
    "ExecuteTime": {
     "end_time": "2019-10-10T11:49:41.564017Z",
     "start_time": "2019-10-10T11:49:35.397121Z"
    }
   },
   "outputs": [],
   "source": [
    "# Writed data from memory to persisten storage using parquet format\n",
    "joined_counts.write.parquet(\"data/titanic_counts.parquet\")"
   ]
  },
  {
   "cell_type": "code",
   "execution_count": 17,
   "metadata": {
    "ExecuteTime": {
     "end_time": "2019-10-10T11:49:42.192938Z",
     "start_time": "2019-10-10T11:49:41.575969Z"
    }
   },
   "outputs": [],
   "source": [
    "# Read back to DataFrame\n",
    "new_df = spark.read.parquet(\"data/titanic_counts.parquet\")"
   ]
  },
  {
   "cell_type": "code",
   "execution_count": 18,
   "metadata": {
    "ExecuteTime": {
     "end_time": "2019-10-10T11:49:42.927992Z",
     "start_time": "2019-10-10T11:49:42.196619Z"
    }
   },
   "outputs": [
    {
     "name": "stdout",
     "output_type": "stream",
     "text": [
      "+------+----------+---------+\n",
      "|PClass|Passengers|Survivors|\n",
      "+------+----------+---------+\n",
      "|   2nd|       279|      119|\n",
      "|   1st|       322|      193|\n",
      "|   3rd|       711|      138|\n",
      "+------+----------+---------+\n",
      "\n"
     ]
    }
   ],
   "source": [
    "new_df.show()"
   ]
  },
  {
   "cell_type": "code",
   "execution_count": null,
   "metadata": {},
   "outputs": [],
   "source": []
  }
 ],
 "metadata": {
  "kernelspec": {
   "display_name": "Python 3",
   "language": "python",
   "name": "python3"
  },
  "language_info": {
   "codemirror_mode": {
    "name": "ipython",
    "version": 3
   },
   "file_extension": ".py",
   "mimetype": "text/x-python",
   "name": "python",
   "nbconvert_exporter": "python",
   "pygments_lexer": "ipython3",
   "version": "3.6.7"
  },
  "toc": {
   "base_numbering": 1,
   "nav_menu": {},
   "number_sections": true,
   "sideBar": true,
   "skip_h1_title": false,
   "title_cell": "Table of Contents",
   "title_sidebar": "Contents",
   "toc_cell": false,
   "toc_position": {},
   "toc_section_display": true,
   "toc_window_display": false
  }
 },
 "nbformat": 4,
 "nbformat_minor": 2
}
