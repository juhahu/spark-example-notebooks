{
 "cells": [
  {
   "cell_type": "markdown",
   "metadata": {},
   "source": [
    "## S3 access to MinIO object storage\n",
    "This notebook demonstrates how to use MinIO object storage from Spark notebook.\n",
    "In this demonstration MinIO is installed to same CSC Rahti namespace than Spark.\n",
    "\n",
    "MinIO project: https://github.com/CSCfi/minio-OpenShift\n",
    "\n",
    "Spark project: https://github.com/CSCfi/spark-openshift"
   ]
  },
  {
   "cell_type": "code",
   "execution_count": 1,
   "metadata": {
    "ExecuteTime": {
     "end_time": "2019-10-09T12:39:47.019002Z",
     "start_time": "2019-10-09T12:39:36.441003Z"
    }
   },
   "outputs": [],
   "source": [
    "# Add your cluster ip for MinIO service and keys defined when installed MinIO\n",
    "from pyspark import SparkConf, SparkContext\n",
    "conf = SparkConf()\n",
    "\n",
    "conf.set(\"spark.jars\", \"file:/opt/jars/aws-java-sdk.jar,file:/opt/jars/hadoop-aws.jar\")\n",
    "conf.set(\"spark.hadoop.fs.s3a.impl\", \"org.apache.hadoop.fs.s3a.S3AFileSystem\")\n",
    "conf.set(\"spark.hadoop.fs.s3a.endpoint\", \"http://<<Rahti service ip for MinIO pod >>:9000\")\n",
    "conf.set(\"spark.hadoop.fs.s3a.access.key\", \"\")\n",
    "conf.set(\"spark.hadoop.fs.s3a.secret.key\", \"\")\n",
    "\n",
    "sc = SparkContext(conf=conf)"
   ]
  },
  {
   "cell_type": "code",
   "execution_count": 2,
   "metadata": {
    "ExecuteTime": {
     "end_time": "2019-10-09T12:39:49.418123Z",
     "start_time": "2019-10-09T12:39:47.081514Z"
    }
   },
   "outputs": [],
   "source": [
    "from pyspark.sql import SparkSession\n",
    "\n",
    "spark = SparkSession \\\n",
    "    .builder \\\n",
    "    .appName(\"Python Spark - MinIO reader-writer\") \\\n",
    "    .getOrCreate()"
   ]
  },
  {
   "cell_type": "code",
   "execution_count": 3,
   "metadata": {
    "ExecuteTime": {
     "end_time": "2019-10-09T12:40:06.877479Z",
     "start_time": "2019-10-09T12:39:49.421936Z"
    }
   },
   "outputs": [],
   "source": [
    "# Read local csv file to DataFrame\n",
    "titanic = spark.read.csv(\"data/Titanic_data.csv\")"
   ]
  },
  {
   "cell_type": "code",
   "execution_count": 8,
   "metadata": {
    "ExecuteTime": {
     "end_time": "2019-10-09T12:44:31.162551Z",
     "start_time": "2019-10-09T12:44:24.542286Z"
    }
   },
   "outputs": [
    {
     "data": {
      "text/plain": [
       "1314"
      ]
     },
     "execution_count": 8,
     "metadata": {},
     "output_type": "execute_result"
    }
   ],
   "source": [
    "# Basic spark operations\n",
    "titanic.count()"
   ]
  },
  {
   "cell_type": "code",
   "execution_count": 4,
   "metadata": {
    "ExecuteTime": {
     "end_time": "2019-10-09T12:40:09.265042Z",
     "start_time": "2019-10-09T12:40:06.881465Z"
    },
    "scrolled": true
   },
   "outputs": [
    {
     "name": "stdout",
     "output_type": "stream",
     "text": [
      "+---+------+----+------+--------+----------+\n",
      "|_c0|   _c1| _c2|   _c3|     _c4|       _c5|\n",
      "+---+------+----+------+--------+----------+\n",
      "| id|PClass| Age|Gender|Survived|GenderCode|\n",
      "|  1|   1st|  29|female|       1|         1|\n",
      "|  2|   1st|   2|female|       0|         1|\n",
      "|  3|   1st|  30|  male|       0|         0|\n",
      "|  4|   1st|  25|female|       0|         1|\n",
      "|  5|   1st|0.92|  male|       1|         0|\n",
      "|  6|   1st|  47|  male|       1|         0|\n",
      "|  7|   1st|  63|female|       1|         1|\n",
      "|  8|   1st|  39|  male|       0|         0|\n",
      "|  9|   1st|  58|female|       1|         1|\n",
      "+---+------+----+------+--------+----------+\n",
      "only showing top 10 rows\n",
      "\n"
     ]
    }
   ],
   "source": [
    "titanic.show(10)"
   ]
  },
  {
   "cell_type": "code",
   "execution_count": 5,
   "metadata": {
    "ExecuteTime": {
     "end_time": "2019-10-09T12:40:15.616340Z",
     "start_time": "2019-10-09T12:40:09.268899Z"
    }
   },
   "outputs": [],
   "source": [
    "# Write dataframe to object storage as Parquet format\n",
    "titanic.write.parquet(\"s3a://spark-test/titanic.parquet\")"
   ]
  },
  {
   "cell_type": "code",
   "execution_count": 6,
   "metadata": {
    "ExecuteTime": {
     "end_time": "2019-10-09T12:40:15.705655Z",
     "start_time": "2019-10-09T12:40:15.619472Z"
    }
   },
   "outputs": [],
   "source": [
    "# Read data from object storage\n",
    "iris = sc.textFile(\"s3a://data/iris.data\")"
   ]
  },
  {
   "cell_type": "code",
   "execution_count": 9,
   "metadata": {
    "ExecuteTime": {
     "end_time": "2019-10-09T12:44:32.890485Z",
     "start_time": "2019-10-09T12:44:31.167031Z"
    }
   },
   "outputs": [
    {
     "data": {
      "text/plain": [
       "152"
      ]
     },
     "execution_count": 9,
     "metadata": {},
     "output_type": "execute_result"
    }
   ],
   "source": [
    "# Basic spark operations\n",
    "iris.count()"
   ]
  },
  {
   "cell_type": "code",
   "execution_count": 7,
   "metadata": {
    "ExecuteTime": {
     "end_time": "2019-10-09T12:40:17.227466Z",
     "start_time": "2019-10-09T12:40:15.708599Z"
    },
    "scrolled": true
   },
   "outputs": [
    {
     "data": {
      "text/plain": [
       "['sepal.length,sepal.width,petal.length,petal.width,class',\n",
       " '5.1,3.5,1.4,0.2,Iris-setosa',\n",
       " '4.9,3.0,1.4,0.2,Iris-setosa',\n",
       " '4.7,3.2,1.3,0.2,Iris-setosa',\n",
       " '4.6,3.1,1.5,0.2,Iris-setosa',\n",
       " '5.0,3.6,1.4,0.2,Iris-setosa',\n",
       " '5.4,3.9,1.7,0.4,Iris-setosa',\n",
       " '4.6,3.4,1.4,0.3,Iris-setosa',\n",
       " '5.0,3.4,1.5,0.2,Iris-setosa',\n",
       " '4.4,2.9,1.4,0.2,Iris-setosa']"
      ]
     },
     "execution_count": 7,
     "metadata": {},
     "output_type": "execute_result"
    }
   ],
   "source": [
    "iris.take(10)"
   ]
  },
  {
   "cell_type": "code",
   "execution_count": null,
   "metadata": {},
   "outputs": [],
   "source": []
  }
 ],
 "metadata": {
  "kernelspec": {
   "display_name": "Python 3",
   "language": "python",
   "name": "python3"
  },
  "language_info": {
   "codemirror_mode": {
    "name": "ipython",
    "version": 3
   },
   "file_extension": ".py",
   "mimetype": "text/x-python",
   "name": "python",
   "nbconvert_exporter": "python",
   "pygments_lexer": "ipython3",
   "version": "3.6.7"
  },
  "toc": {
   "base_numbering": 1,
   "nav_menu": {},
   "number_sections": true,
   "sideBar": true,
   "skip_h1_title": false,
   "title_cell": "Table of Contents",
   "title_sidebar": "Contents",
   "toc_cell": false,
   "toc_position": {},
   "toc_section_display": true,
   "toc_window_display": false
  }
 },
 "nbformat": 4,
 "nbformat_minor": 2
}
